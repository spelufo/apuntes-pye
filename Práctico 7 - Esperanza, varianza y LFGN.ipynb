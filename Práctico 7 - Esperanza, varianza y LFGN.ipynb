{
 "metadata": {
  "name": ""
 },
 "nbformat": 3,
 "nbformat_minor": 0,
 "worksheets": [
  {
   "cells": [
    {
     "cell_type": "code",
     "collapsed": false,
     "input": [
      "%pylab inline --no-import-all\n",
      "import pylab as plt\n",
      "# plt.xkcd(randomness=1.6)\n",
      "from pye import *\n",
      "%load_ext octavemagic"
     ],
     "language": "python",
     "metadata": {},
     "outputs": [
      {
       "output_type": "stream",
       "stream": "stdout",
       "text": [
        "Populating the interactive namespace from numpy and matplotlib\n"
       ]
      }
     ],
     "prompt_number": 1
    },
    {
     "cell_type": "markdown",
     "metadata": {},
     "source": [
      "## 7. [Esperanza, varianza y LFGN](files/practicos/p7.pdf)\n",
      "\n",
      "Simulaci\u00f3n de distribuciones de VA (una clase). M\u00e9todo de Monte Carlo. "
     ]
    },
    {
     "cell_type": "heading",
     "level": 2,
     "metadata": {},
     "source": [
      "Ejercicio 1"
     ]
    },
    {
     "cell_type": "code",
     "collapsed": false,
     "input": [
      "print 4000*0.3 - 1000*0.7"
     ],
     "language": "python",
     "metadata": {},
     "outputs": [
      {
       "output_type": "stream",
       "stream": "stdout",
       "text": [
        "500.0\n"
       ]
      }
     ],
     "prompt_number": 2
    },
    {
     "cell_type": "heading",
     "level": 2,
     "metadata": {},
     "source": [
      "Ejercicio 2"
     ]
    },
    {
     "cell_type": "markdown",
     "metadata": {},
     "source": [
      "$K = 1$, $X \\sim Bin(3,1/4)$  \n",
      "$ \\Bbb E(X) = n \\Bbb E(Ber(p)) = np = 3/4$"
     ]
    },
    {
     "cell_type": "heading",
     "level": 2,
     "metadata": {},
     "source": [
      "Ejercicio 3"
     ]
    },
    {
     "cell_type": "heading",
     "level": 2,
     "metadata": {},
     "source": [
      "Ejercicio 14"
     ]
    },
    {
     "cell_type": "markdown",
     "metadata": {},
     "source": [
      "Si llamamos $T_P$ a la variable aleatoria que es el tiempo de vida de un panel, la probabilidad de que un panel sobreviva un tiempo t esta dada por $P(T_P \\geqslant t) = 1 - F_{T_P}(t) = 1 - t$. Entonces para un tiempo $t$ dado, la variable aleatoria correspondiente a que un panel este funcionando es del tipo $Ber(1-t)$, y el n\u00famero de paneles que est\u00e1n funcionando tiene una distribuci\u00f3n $X \\sim Bin(5,1-p)$. La probabilidad de que cuatro de ellos se hayan roto (y que por lo tanto el sat\u00e9lite se haya roto) es $P(X=1) + P(X=0) = 5 (1-t)t^4 + t^5 = 5 t^4 - 4 t^5$.  \n",
      "Luego la densidad de probabilidad del tiempo de ruptura del sat\u00e9lite es la derivada de esta probabilidad: $f_{T_S}(t) = 20(1-t)t^3$, y se calcula el tiempo medio de ruptura como el valor esperado de esta variable aleatoria, osea $\\int_0^1 t \\cdot f_{T_S}(t) dt = \\frac 2 3$\n",
      "\n",
      "### Verificaci\u00f3n por simulaci\u00f3n"
     ]
    },
    {
     "cell_type": "code",
     "collapsed": false,
     "input": [
      "from random import random\n",
      "\n",
      "die_time = []\n",
      "for trial in range(1000000):\n",
      "    sats = [random() for i in range(5)]\n",
      "    sats.sort()\n",
      "    die_time.append(sats[3])\n",
      "\n",
      "print 1.*sum(die_time)/len(die_time)\n",
      "    "
     ],
     "language": "python",
     "metadata": {},
     "outputs": [
      {
       "output_type": "stream",
       "stream": "stdout",
       "text": [
        "0.666885393217\n"
       ]
      }
     ],
     "prompt_number": 5
    },
    {
     "cell_type": "code",
     "collapsed": false,
     "input": [
      "p = Pois(100)\n",
      "\n",
      "print 1 - sum([p(k) for k in range(90)])"
     ],
     "language": "python",
     "metadata": {},
     "outputs": [
      {
       "output_type": "stream",
       "stream": "stdout",
       "text": [
        "0.853653825301\n"
       ]
      }
     ],
     "prompt_number": 9
    },
    {
     "cell_type": "code",
     "collapsed": false,
     "input": [
      "d = [19,23, 20,17,18, 20,22,24,25,28,30,21]\n",
      "r = [ 3, 8,4.5, 1, 2,4.5, 7, 9,10,11,12, 6]\n",
      "\n",
      "1 - 6.*sum([(1.*(ri - i))**2 for ri,i in zip(r,range(1,len(r)+1))])/len(d)/(len(d)**2 - 1)"
     ],
     "language": "python",
     "metadata": {},
     "outputs": [
      {
       "metadata": {},
       "output_type": "pyout",
       "prompt_number": 3,
       "text": [
        "0.6416083916083917"
       ]
      }
     ],
     "prompt_number": 3
    }
   ],
   "metadata": {}
  }
 ]
}