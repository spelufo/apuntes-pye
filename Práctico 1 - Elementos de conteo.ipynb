{
 "metadata": {
  "name": ""
 },
 "nbformat": 3,
 "nbformat_minor": 0,
 "worksheets": [
  {
   "cells": [
    {
     "cell_type": "code",
     "collapsed": false,
     "input": [
      "%pylab inline --no-import-all\n",
      "import pylab as plt"
     ],
     "language": "python",
     "metadata": {},
     "outputs": []
    },
    {
     "cell_type": "markdown",
     "metadata": {},
     "source": [
      "# 1. [Elementos de conteo](files/practicos/p1.pdf)\n",
      "__[soluci\u00f3n](files/practicos/s1.pdf)__\n",
      "\n",
      "Clases 1 y 2\n",
      "Presentaci\u00f3n del curso, motivaci\u00f3n intuitiva de la definici\u00f3n de probabilidad. Propiedades b\u00e1sicas de conjunto. Espacio muestral. Ejemplos. Sucesos. Definici\u00f3n axiom\u00e1tica. Propiedades de la probabilidad."
     ]
    },
    {
     "cell_type": "heading",
     "level": 2,
     "metadata": {},
     "source": [
      "Ejercicio 1"
     ]
    },
    {
     "cell_type": "code",
     "collapsed": false,
     "input": [
      "# super verbose solution\n",
      "\n",
      "# factorial with early exit by number or ammount\n",
      "def factorial(n, down_to=0, ammount=None):\n",
      "    if n < 2 or ammount == 0 or n == down_to:\n",
      "        return 1\n",
      "    return n * factorial(n - 1, down_to=down_to, ammount=(ammount-1 if type(ammount) == int else None))\n",
      "\n",
      "# Maneras de elegir una secuencia de k letras diferentes de un alfabeto con n letras diferentes.\n",
      "def arreglos(n, k):\n",
      "    return factorial(n, ammount=k)\n",
      "A = arreglos\n",
      "\n",
      "letras = 5 # solo vocales\n",
      "slots_letras = 2\n",
      "digitos = 10\n",
      "slots_digitos = 5\n",
      "\n",
      "matriculas = A(letras, slots_letras) * A(digitos, slots_digitos)\n",
      "print \"Cantidad de matr\u00edculas:\", \"27*26 * 10*9*8*7*6 =\", matriculas\n",
      "\n",
      "matriculas_Axxx89 = A(letras-1, 1) * A(digitos-2, 3)\n",
      "print \"Cantidad de matr\u00edculas Axxx89:\", \"26 * 8*7*6 =\", matriculas_Axxx89"
     ],
     "language": "python",
     "metadata": {},
     "outputs": [
      {
       "output_type": "stream",
       "stream": "stdout",
       "text": [
        "Cantidad de matr\u00edculas: 27*26 * 10*9*8*7*6 = 604800\n",
        "Cantidad de matr\u00edculas Axxx89: 26 * 8*7*6 = 1344\n"
       ]
      }
     ],
     "prompt_number": 22
    },
    {
     "cell_type": "heading",
     "level": 2,
     "metadata": {},
     "source": [
      "Ejercicio 2"
     ]
    },
    {
     "cell_type": "code",
     "collapsed": false,
     "input": [
      "ingenieros = 3\n",
      "economistas = 5\n",
      "arquitectos = 4\n",
      "seleccionarse = 4\n",
      "\n",
      "def combinaciones(n, k):\n",
      "    return factorial(n, ammount=k) / factorial(k)\n",
      "binomial = C = combinaciones\n",
      "\n",
      "# Pascals triangle\n",
      "# n = 8\n",
      "# for i in range(n+1):\n",
      "#     line = \"  \"*(n-i)\n",
      "#     for j in range(i+1):\n",
      "#         line += str(binomial(i, j)) + \"   \"\n",
      "#     print line\n",
      "\n",
      "# cuantos posibles grupos (personas son unicas y no se reponen)\n",
      "personas = ingenieros + economistas + arquitectos\n",
      "posibles_comisiones = C(personas, seleccionarse)\n",
      "print \"1)\", posibles_comisiones\n",
      "\n",
      "# un ingeniero, dos economistas, un arquitecto\n",
      "posibles_comisiones = C(ingenieros, 1) * C(economistas, 2) * C(arquitectos, 1)\n",
      "print \"2)\", posibles_comisiones\n",
      "\n",
      "# por lo menos dos arquitectos\n",
      "# dos maneras de hacerlo:\n",
      "#    1. elegir 2 arquitectos, luego elegir 2 de los que quedan\n",
      "#    2. coms con 2 arqs + coms con 3 arqs + coms con 4 arqs\n",
      "# [porque difieren?](http://math.stackexchange.com/questions/642665/different-results-for-choosing-committee-with-at-least-two-arquitects)\n",
      "posibles_comisiones = C(arquitectos, 2) * C(personas-2, 2)\n",
      "print \"3)\", posibles_comisiones\n",
      "\n",
      "posibles_comisiones = C(arquitectos, 2) * C(personas-4, 2) + C(arquitectos, 3) * C(personas-4, 1) + C(arquitectos, 4) * C(personas-4, 0)\n",
      "print \"3)\", posibles_comisiones"
     ],
     "language": "python",
     "metadata": {},
     "outputs": [
      {
       "output_type": "stream",
       "stream": "stdout",
       "text": [
        "1) 495\n",
        "2) 120\n",
        "3) 270\n",
        "3) 201\n"
       ]
      }
     ],
     "prompt_number": 38
    },
    {
     "cell_type": "heading",
     "level": 2,
     "metadata": {},
     "source": [
      "Ejercicio 3"
     ]
    },
    {
     "cell_type": "code",
     "collapsed": false,
     "input": [
      "# caja fuerte con clave de 5 digitos\n",
      "\n",
      "posibles_claves = 10**5\n",
      "print \"1)\", posibles_claves"
     ],
     "language": "python",
     "metadata": {},
     "outputs": [
      {
       "output_type": "stream",
       "stream": "stdout",
       "text": [
        "1) 100000\n"
       ]
      }
     ],
     "prompt_number": 40
    },
    {
     "cell_type": "markdown",
     "metadata": {},
     "source": [
      "__2. Se puede ver huellas en las teclas presionadas por humedad, repetir\u00eda digitos?__\n",
      "\n",
      "La cantidad de claves con 5 d\u00edgitos diferentes es $P_5 = 5!$.  \n",
      "\n",
      "Sean $r_1, r_2, ..., r_9, r_0$ la cantidad de ocurrencias de los d\u00edgitos en la clave. La cantidad de claves con estos d\u00edgitos es $P_5^{r_1, r_2, ..., r_9, r_0} = \\frac {5!} {\\prod r_i!}$. Pero el ladr\u00f3n no sabe cuantas veces ocurre cada d\u00edgito, solo cuales ocurren y cuales no. Este numero debe multiplicarse por la cantidad de maneras de elegir los digitos repetidos para obtener la cantidad de claves que el ladr\u00f3n deber\u00eda probar."
     ]
    },
    {
     "cell_type": "markdown",
     "metadata": {},
     "source": [
      "___\u00bfC\u00f3mo obtener todas las maneras de distribuir las repeticiones en forma sistem\u00e1tica?___ \n",
      "\n",
      "Relacionado al problema de obtener las maneras de las que se puede sumar n con n\u00fameros naturales, sin importar el orden de la suma.\n",
      "\n",
      "En este caso obviamente es: $\\{\\{5\\}$ (5 veces la misma tecla),$ \\{4,1\\}, \\{3,1,1\\}, \\{3,2\\}, \\{2,1,1,1\\}, \\{2,2,1\\}, \\{1,1,1,1,1\\} $(todas distintas)$\\}$"
     ]
    },
    {
     "cell_type": "code",
     "collapsed": false,
     "input": [
      "def huellas_a_repeticiones(digitos, huellas):\n",
      "    if huellas is 1:\n",
      "        return [[digitos]]\n",
      "    result = []\n",
      "    for i in range(1, digitos):\n",
      "        for bit in huellas_a_repeticiones(digitos-i, huellas-1):\n",
      "            result.append([i] + bit)\n",
      "    return result\n",
      "\n",
      "def posibles_presses(largo_clave, huellas):\n",
      "    hr = huellas_a_repeticiones(largo_clave, huellas)\n",
      "    nhr = []\n",
      "    for h in hr:\n",
      "        sh = sorted(h)\n",
      "        if sh not in nhr:\n",
      "            nhr.append(sh)\n",
      "    return nhr\n",
      "\n",
      "def permutaciones(n, reps=[]):\n",
      "    res = factorial(n)\n",
      "    for i in reps:\n",
      "        res /= factorial(i)\n",
      "    return res\n",
      "P = permutaciones\n",
      "\n",
      "# dado un set de cantidades de repeticiones p (por ejemplo [3,1,1])\n",
      "# de cuantas maneras se pueden asignar estos numeros de repeticiones a las distintas teclas\n",
      "def maneras_de_asignar_teclas(presses):\n",
      "    n = sum(presses)\n",
      "    occurrences = {}\n",
      "    for i in range(1,n+1):\n",
      "        occurrences[i] = 0\n",
      "    for p in presses:\n",
      "        occurrences[p] += 1\n",
      "    return permutaciones(len(presses), reps=occurrences.values())\n",
      "\n",
      "def intentos(largo_clave, teclas):\n",
      "    huellas_a_intentos = {}\n",
      "    huellas_a_presses = {}\n",
      "    for cant_huellas in range(1,teclas+1):\n",
      "        huellas_a_presses[cant_huellas] = posibles_presses(largo_clave, cant_huellas)\n",
      "    \n",
      "    for h in huellas_a_presses:\n",
      "        huellas_a_intentos[h] = 0\n",
      "        for p in huellas_a_presses[h]:\n",
      "            huellas_a_intentos[h] += permutaciones(largo_clave, reps=p) * maneras_de_asignar_teclas(p)\n",
      "    return huellas_a_intentos\n",
      "\n",
      "\n",
      "def autolabel(rects):\n",
      "    for rect in rects:\n",
      "        height = rect.get_height()\n",
      "        plt.text(rect.get_x()+rect.get_width()/2., 1.05*height, '%d'%int(height),\n",
      "                ha='center', va='bottom')\n",
      "\n",
      "largo_clave = 5\n",
      "teclas = 10\n",
      "intts = intentos(largo_clave, teclas)\n",
      "# normalizedvals = [1.0*v/max(intts.values()) for v in intts.values()]\n",
      "barplt = plt.bar(intts.keys(), intts.values(), align=\"center\", color='r', alpha=0.5, label=True)\n",
      "autolabel(barplt)\n",
      "plt.show()"
     ],
     "language": "python",
     "metadata": {},
     "outputs": [
      {
       "metadata": {},
       "output_type": "display_data",
       "png": "[encoded data removed]",
       "text": [
        "<matplotlib.figure.Figure at 0x473ed50>"
       ]
      },
      {
       "output_type": "stream",
       "stream": "stdout",
       "text": [
        "\n"
       ]
      }
     ],
     "prompt_number": 290
    },
    {
     "cell_type": "markdown",
     "metadata": {},
     "source": [
      "### Conlusi\u00f3n\n",
      "_Hubiera elegido una clave que dejara 4 huellas, osea una repetici\u00f3n, porque es la que lleva m\u00e1s tiempo crackear por fuerza bruta_"
     ]
    },
    {
     "cell_type": "code",
     "collapsed": false,
     "input": [
      "# Esto de las huellas pasa siempre con los iphone... mua ja ja ja ja\n",
      "\n",
      "largo_clave = 4\n",
      "teclas = 10\n",
      "intts = intentos(largo_clave, teclas)\n",
      "barplt = plt.bar(intts.keys(), intts.values(), align=\"center\", color='r', alpha=0.5, label=True)\n",
      "autolabel(barplt)\n",
      "plt.show()"
     ],
     "language": "python",
     "metadata": {},
     "outputs": [
      {
       "metadata": {},
       "output_type": "display_data",
       "png": "[encoded data removed]",
       "text": [
        "<matplotlib.figure.Figure at 0x4cb9810>"
       ]
      }
     ],
     "prompt_number": 251
    },
    {
     "cell_type": "heading",
     "level": 2,
     "metadata": {},
     "source": [
      "Ejercicio 4"
     ]
    },
    {
     "cell_type": "code",
     "collapsed": false,
     "input": [
      "print \"5 de Oro\"\n",
      "print \"--------\"\n",
      "print \"1)\", C(44,5), \"posibles jugadas.\"\n",
      "print \"2)\", C(5,1) * C(39,4), \"posibles jugadas con exactamente 1 de los 5 n\u00fameros bien.\"\n",
      "print \"3)\", C(5,2) * C(39,3) + C(5,3) * C(39,2) + C(5,4) * C(39,1) + C(5,5) * C(39,0), \"posibles jugadas con 2 o m\u00e1s de los 5 n\u00fameros bien.\"\n",
      "print \"Wrong 3)\", C(5,2) * C(42,3), \"posibles jugadas con 2 o m\u00e1s de los 5 n\u00fameros bien.\"\n",
      "print \"Why not? Counting more than once again: AB**C is counted as well as AC**B when ABC are all winning numbers.\""
     ],
     "language": "python",
     "metadata": {},
     "outputs": [
      {
       "output_type": "stream",
       "stream": "stdout",
       "text": [
        "5 de Oro\n",
        "--------\n",
        "1) 1086008 posibles jugadas.\n",
        "2) 411255 posibles jugadas con exactamente 1 de los 5 n\u00fameros bien.\n",
        "3) 98996 posibles jugadas con 2 o m\u00e1s de los 5 n\u00fameros bien.\n",
        "Wrong 3) 114800 posibles jugadas con 2 o m\u00e1s de los 5 n\u00fameros bien.\n",
        "Why not? Counting more than once again: AB**C is counted as well as AC**B when ABC are all winning numbers.\n"
       ]
      }
     ],
     "prompt_number": 262
    },
    {
     "cell_type": "heading",
     "level": 2,
     "metadata": {},
     "source": [
      "Ejercicio 5"
     ]
    },
    {
     "cell_type": "code",
     "collapsed": false,
     "input": [
      "def surtido(bizcochos, tipos):\n",
      "    if tipos is 1:\n",
      "        return [[bizcochos]]\n",
      "    result = []\n",
      "    for i in range(0, bizcochos+1):\n",
      "        for bit in surtido(bizcochos-i, tipos-1):\n",
      "            result.append([i] + bit)\n",
      "    return result\n",
      "\n",
      "bizcochos = 12\n",
      "surtido12 = surtido(bizcochos, 3)\n",
      "print len(surtido12), \"posibles elecciones:\"\n",
      "\n",
      "mejor_denominador = factorial(bizcochos)**3\n",
      "mejor_surtido = None\n",
      "for e in surtido12:\n",
      "    denominador = factorial(e[0])*factorial(e[1])*factorial(e[2])\n",
      "    if denominador < mejor_denominador:\n",
      "        mejor_denominador = denominador\n",
      "        mejor_surtido = e\n",
      "#     print \"\\t\", e[0], \"croassants,\", e[1], \"margaritas,\", e[2], \"galletas\"\n",
      "print \"Surtido que da mas formas de repartir: \", mejor_surtido, \"da\", P(bizcochos, reps=mejor_surtido), \"maneras.\""
     ],
     "language": "python",
     "metadata": {},
     "outputs": [
      {
       "output_type": "stream",
       "stream": "stdout",
       "text": [
        "91 posibles elecciones:\n",
        "Surtido que da mas formas de repartir:  [4, 4, 4] da 34650 maneras.\n"
       ]
      }
     ],
     "prompt_number": 291
    },
    {
     "cell_type": "markdown",
     "metadata": {},
     "source": [
      "1. La cantidad de maneras de comprar los bizcochos es ${CR}^3_{12} = C^{3 + 12 - 1}_{12} = 91$. Esos son combinaciones con repetici\u00f3n, es decir, se eligen cosas de 3 tipos hasta llenar 12 lugares, y no importa el orden en que queden las cosas. [Explicaci\u00f3n de la f\u00f3rmula](http://en.wikipedia.org/wiki/Stars_and_bars_%28probability%29)\n",
      "\n",
      "2. $P^{\\alpha,\\beta,\\gamma}_{12} = \\frac {12!} {\\alpha!\\beta!\\gamma!}$ formas de repartir los bizcochos.\n",
      "\n",
      "3. Hay mas formas de repartirlos cuando se compran 4 de cada tipo."
     ]
    },
    {
     "cell_type": "heading",
     "level": 2,
     "metadata": {},
     "source": [
      "Ejercicio 6"
     ]
    },
    {
     "cell_type": "code",
     "collapsed": false,
     "input": [],
     "language": "python",
     "metadata": {},
     "outputs": []
    }
   ],
   "metadata": {}
  }
 ]
}