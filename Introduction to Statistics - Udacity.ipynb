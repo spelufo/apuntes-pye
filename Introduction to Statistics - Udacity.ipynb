{
 "metadata": {
  "name": ""
 },
 "nbformat": 3,
 "nbformat_minor": 0,
 "worksheets": [
  {
   "cells": [
    {
     "cell_type": "code",
     "collapsed": false,
     "input": [
      "# Bayes rule. This is unnecessarily complicated.\n",
      "# I don't even know why it has a name.\n",
      "# It's just restricting the possibilities to a subset of the original event space.\n",
      "\n",
      "p_c = 0.1 # probability of having cancer on the whole population\n",
      "p_pos_given_c = 0.9 # probability that the test is right if you have cancer\n",
      "p_neg_given_not_c = 0.5 # probability that the test is right if you don't have cancer\n",
      "\n",
      "p_not_c = 1 - p_c\n",
      "p_neg_given_c = 1 - p_pos_given_c # because c is considered the whole event space\n",
      "p_pos_given_not_c = 1 - p_neg_given_not_c # taking not c as the universe\n",
      "p_c_and_pos = p_c * p_pos_given_c\n",
      "p_not_c_and_pos = p_not_c * p_pos_given_not_c\n",
      "p_pos = p_c_and_pos + p_not_c_and_pos # either you have it or you dont, so these are all the cases\n",
      "print \"p_c_given_pos = \" + str(p_c_and_pos / p_pos)\n",
      "print \"p_not_c_given_pos = \" + str(p_not_c_and_pos / p_pos)\n"
     ],
     "language": "python",
     "metadata": {},
     "outputs": [
      {
       "output_type": "stream",
       "stream": "stdout",
       "text": [
        "p_c_given_pos =0.166666666667\n",
        "p_not_c_given_pos =0.833333333333\n"
       ]
      }
     ],
     "prompt_number": 6
    },
    {
     "cell_type": "code",
     "collapsed": false,
     "input": [
      "# Robot sensing\n",
      "\n",
      "see_red = 0.8*0.5 + 0.2*0.5\n",
      "at_red_given_see_red = 0.4 / see_red\n",
      "at_green_see_red = 0.1 / see_red\n",
      "print at_red_given_see_red\n",
      "print at_green_see_red"
     ],
     "language": "python",
     "metadata": {},
     "outputs": [
      {
       "output_type": "stream",
       "stream": "stdout",
       "text": [
        "0.8\n",
        "0.2\n"
       ]
      }
     ],
     "prompt_number": 8
    },
    {
     "cell_type": "heading",
     "level": 1,
     "metadata": {},
     "source": [
      "Problem Set 2"
     ]
    },
    {
     "cell_type": "heading",
     "level": 2,
     "metadata": {},
     "source": [
      "Same Coin"
     ]
    },
    {
     "cell_type": "code",
     "collapsed": false,
     "input": [
      "# There are 2 coins, one is fair, for the other H:T is 0.9:0.1\n",
      "# Two people roll H H T and T H H, respectively.\n",
      "# What is the probability that they both rolled the same coin?\n",
      "\n",
      "def p_x_given_y (p_y, p_x = 1, p_y_given_x = 0, p_y_and_x = None):\n",
      "    if p_y_and_x is None:\n",
      "        p_y_and_x = p_y_given_x * p_x\n",
      "    return p_y_and_x / p_y\n",
      "\n",
      "p_rolled_d1_and_HHT = 0.5**4\n",
      "p_rolled_d2_and_HHT =0.5 * 0.9**2 * 0.1\n",
      "p_rolled_d1_and_THH = 0.5**4\n",
      "p_rolled_d2_and_THH = 0.5 * 0.9**2 * 0.1\n",
      "\n",
      "p_rolled_d1_given_HHT = p_x_given_y(p_rolled_d1_and_HHT + p_rolled_d2_and_HHT, p_y_and_x = p_rolled_d1_and_HHT)\n",
      "p_rolled_d2_given_HHT = p_x_given_y(p_rolled_d1_and_HHT + p_rolled_d2_and_HHT, p_y_and_x = p_rolled_d2_and_HHT)\n",
      "p_rolled_d1_given_THH = p_x_given_y(p_rolled_d1_and_THH + p_rolled_d2_and_THH, p_y_and_x = p_rolled_d1_and_THH)\n",
      "p_rolled_d2_given_THH = p_x_given_y(p_rolled_d1_and_THH + p_rolled_d2_and_THH, p_y_and_x = p_rolled_d2_and_THH)\n",
      "\n",
      "p_both_rolled_d1 = p_rolled_d1_given_HHT * p_rolled_d1_given_THH\n",
      "p_both_rolled_d2 = p_rolled_d2_given_HHT * p_rolled_d2_given_THH\n",
      "\n",
      "p_rolled_same_d = p_both_rolled_d1 + p_both_rolled_d2\n",
      "print p_rolled_same_d"
     ],
     "language": "python",
     "metadata": {},
     "outputs": [
      {
       "output_type": "stream",
       "stream": "stdout",
       "text": [
        "0.522810821001\n"
       ]
      }
     ],
     "prompt_number": 6
    },
    {
     "cell_type": "heading",
     "level": 2,
     "metadata": {},
     "source": [
      "It is fair 2"
     ]
    },
    {
     "cell_type": "markdown",
     "metadata": {},
     "source": [
      "### Discreta Repaso\n",
      "\n",
      "_(En lo siguiente, todos los \"elementos\" son distintos/\u00fanicos/distinguibles. Lo mismo va para los \"lugares\")_\n",
      "\n",
      "__ _Factorial:_ __ $k!$ es la cantidad de maneras de ordenar $k$ elementos, porque para el primer lugar hay $k$ posibilidades, para el segundo $k-1$, para el tercero $k-2$... hasta que se acaban los elementos.\n",
      "\n",
      "__ _Permutaciones:_ __ $m! \\over (m-n)!$ es la cantidad de maneras de llenar $n$ lugares con $m$ elementos, por el mismo razonamiento, excepto se termina de contar cuando se ocupan los lugares. Es equivalente a la cantidad de secuencias de $n$ elementos __sacados__ (sin devoluci\u00f3n) de un set con $m$.\n",
      "\n",
      "L\u00f3gicamente la definici\u00f3n aplica cuando $m > n$, de lo contrario hay mas lugares que elementos. En este caso se podr\u00eda calcular la cantidad de maneras como $m! {{n} \\choose {n-m}}$ porque ${n} \\choose {n-m}$ es la cantidad de manera de elegir los lugares vac\u00edos.\n",
      "\n",
      "__ _Coeficientes Binomiales:_ __ $n \\choose k$ es la cantidad de maneras de elegir (un set de) k elementos de un set de n. ${n \\choose k} = {n! \\over {k! (n-k)!}}$ porque $n! \\over (n-k)!$ es la cantidad de maneras de elegir una secuencia de $k$ elementos cualquiera de un set con $n$ en un orden determinado (permutaciones de k en n), y este n\u00famero se divide entre la cantidad de maneras de ordenar una secuencia de este largo, efectivamente agrupando todas las secuencias con los mismos elementos.\n"
     ]
    },
    {
     "cell_type": "code",
     "collapsed": false,
     "input": [
      "def factorial (n, out=1):\n",
      "    if n < 2:\n",
      "        return 1\n",
      "    return n * factorial(n-1)\n",
      "\n",
      "def binomial (n, k):\n",
      "    \"\"\"Number of ways to choose k from n elements. (\"n choose k\")\"\"\"\n",
      "    assert(n >= k)\n",
      "    return factorial(n) / factorial(k) / factorial(n-k)\n",
      "\n",
      "def permutations(m, n):\n",
      "    \"\"\"Number of ways to put m elements in n slots\"\"\"\n",
      "    return factorial(n)/factorial(n-k)\n",
      "\n",
      "\n",
      "# Pascals triangle\n",
      "\n",
      "n = 8\n",
      "for i in range(n+1):\n",
      "    line = \"  \"*(n-i)\n",
      "    for j in range(i+1):\n",
      "        line += str(binomial(i, j)) + \"   \"\n",
      "    print line\n"
     ],
     "language": "python",
     "metadata": {},
     "outputs": [
      {
       "output_type": "stream",
       "stream": "stdout",
       "text": [
        "                1   \n",
        "              1   1   \n",
        "            1   2   1   \n",
        "          1   3   3   1   \n",
        "        1   4   6   4   1   \n",
        "      1   5   10   10   5   1   \n",
        "    1   6   15   20   15   6   1   \n",
        "  1   7   21   35   35   21   7   1   \n",
        "1   8   28   56   70   56   28   8   1   \n"
       ]
      }
     ],
     "prompt_number": 1
    },
    {
     "cell_type": "code",
     "collapsed": false,
     "input": [
      "def p_flips_given_fair (heads, tails):\n",
      "    return 0.5**(heads+tails) * binomial(heads+tails, heads)\n",
      "\n",
      "def p_flips_given_unfair (heads, tails):\n",
      "    return 0.9**heads * 0.1**tails * binomial(heads+tails, heads)\n",
      "\n",
      "def p_flips(heads, tails):\n",
      "    return p_flips_given_fair(heads, tails) + p_flips_given_unfair(heads, tails)\n",
      "\n",
      "print p_flips_given_fair(4,0)*0.9/p_flips(4,0)\n",
      "print p_flips_given_fair(10,0)*0.9/p_flips(10,0)\n",
      "print p_flips_given_fair(20,0)*0.9/p_flips(20,0)\n",
      "print p_flips_given_fair(0,5)*0.9/p_flips(0,5)\n",
      "print p_flips_given_fair(2,3)*0.9/p_flips(2,3)"
     ],
     "language": "python",
     "metadata": {},
     "outputs": []
    },
    {
     "cell_type": "markdown",
     "metadata": {},
     "source": [
      "# Completado el curso\n",
      "\n",
      "Es una mierda, se hace totalmente en forma mec\u00e1nica, mi idea era tener una primera exposici\u00f3n al tema, pero me parece que fue demasiado b\u00e1sica. Millones de ejercicios al pedo, solo proveen pr\u00e1ctica de aritm\u00e9tica, etc. Las \u00fanicas partes buenas son las de programaci\u00f3n. Ni se intenta justificar las formulas de manera intuitiva, menos que menos las demostraciones..."
     ]
    }
   ],
   "metadata": {}
  }
 ]
}