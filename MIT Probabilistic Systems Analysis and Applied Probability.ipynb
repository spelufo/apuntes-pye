{
 "metadata": {
  "name": ""
 },
 "nbformat": 3,
 "nbformat_minor": 0,
 "worksheets": [
  {
   "cells": [
    {
     "cell_type": "code",
     "collapsed": false,
     "input": [
      "%pylab inline --no-import-all\n",
      "import pylab as plt\n",
      "from pye import *"
     ],
     "language": "python",
     "metadata": {},
     "outputs": [
      {
       "output_type": "stream",
       "stream": "stdout",
       "text": [
        "Populating the interactive namespace from numpy and matplotlib\n"
       ]
      }
     ],
     "prompt_number": 2
    },
    {
     "cell_type": "markdown",
     "metadata": {},
     "source": [
      "# 1. [Probability Models and Axioms](http://www.youtube.com/watch?v=j9WZyLZCBzs&list=SPUl4u3cNGP61MdtwGTqZA0MreSaDybji8)\n",
      "\n",
      "- You have to read the book, the words are important to get intuition, rather than remember the formulas.\n",
      "\n",
      "- The __sample space__ $\\Omega$ is the set of all posible outcomes of an experiment.\n",
      "    - Collectively exhaustive\n",
      "    - Mutually exclusive\n",
      "    - This doesn't make $\\Omega$ unique. Flip coin and rain example. _Art: to be ar the right granularity_\n",
      "    \n",
      "- Probability axioms\n",
      "    - __Event:__ a subset of the sample space\n",
      "    - We __asign probabilities to events__ according to our __beliefs__ about their likelihood: how often they occur.\n",
      "    - Axioms:\n",
      "        1. ___Nonnegativity:___ $P(A) \\geqslant 0$\n",
      "        2. ___Normalization:___ $P(\\Omega) = 1$\n",
      "        3. ___Additivity:___ If $A \\cap B = \\emptyset$, then $P(A \\cup B) = P(A) + P(B)$\n",
      "        4. _Countable Additivity:_ Additivity of the probabilities of an infinite sequence of disjoint events. Related to axiom of choice?\n",
      "        \n",
      "> Think of probability as cream cheese\n",
      "\n",
      "- There are weird sets which can't be assigned a probability under these axioms. $\\mathbb{R} \\setminus \\mathbb{Q}$, $\\mathbb{Q}$, compactness necessary?"
     ]
    },
    {
     "cell_type": "markdown",
     "metadata": {},
     "source": [
      "# 2. [Conditioning and Bayes' Rule](http://www.youtube.com/watch?v=TluTv5V0RmE&list=SPUl4u3cNGP61MdtwGTqZA0MreSaDybji8&feature=share&index=1)\n",
      "\n",
      "- Conditional probability\n",
      "- $P(A|B)$ is the probability of A given that B occurred. B is our new universe.\n",
      "- $P(A|B) = \\frac {P(A \\cap B)} {P(B)} = \\frac {P(A) P(B|A)} {P(B)}$\n",
      "- Plane and radar example"
     ]
    },
    {
     "cell_type": "markdown",
     "metadata": {},
     "source": [
      "# 3. [Independence](http://www.youtube.com/watch?v=19Ql_Q3l0GA&feature=share&list=SPUl4u3cNGP61MdtwGTqZA0MreSaDybji8&index=2)\n",
      "\n",
      "- Definition of independence: $P(B|A) = P(B) \\iff $ A and B are independent.\n",
      "- Another almost equivalent defintion: $P(A \\cap B) = P(A) P(B) \\iff$ A and B are independent.\n",
      "- Conditioning may affect independence.\n",
      "- A collection of independent events is one such that $P(\\bigcap A_i) = \\prod P(A_i)$ for all subcollections of $A_i$'s in the collection."
     ]
    },
    {
     "cell_type": "markdown",
     "metadata": {},
     "source": [
      "# 4. [Counting](http://www.youtube.com/watch?v=6oV3pKLgW2I&list=SPUl4u3cNGP61MdtwGTqZA0MreSaDybji8&feature=share&index=3)\n",
      "\n",
      "- All elements in $\\Omega$ have $P = 1/|\\Omega| = 1/N$. Thus if there are $n$ of them in an event, its probability is $n/N$. _Counting_ is concerned with finding $n$ and $N$.\n",
      "- Binomial coefficients and probabilities\n",
      "- $\\sum_{k=0}^{n}{{n}\\choose{k}} = 2^n$ this is true because we are counting all the ways to choose subsets from a set with $n$ elements, and this is equivalent to asigning a $0$ or $1$ to each element, which can be done in $2^n$ ways.\n",
      "- Relatedly, $\\sum_{k=0}^{n}{{{n}\\choose{k}} p^{k} {(1-p)}^{(n-k)}} = 1$.\n",
      "\n",
      "No escuch\u00e9 un carajo, pero es m\u00e1s o menos lo del pr\u00e1ctico 1 de la fing."
     ]
    },
    {
     "cell_type": "markdown",
     "metadata": {},
     "source": [
      "# 5. [Discrete Random Variables; Probability Mass Functions; Expectations](http://www.youtube.com/watch?v=3MOahpLxj6A&list=SPUl4u3cNGP61MdtwGTqZA0MreSaDybji8&feature=share&index=4)\n",
      "\n",
      "- ___Random variable:___ Asignment of a numerical value to each element of $\\Omega$.\n",
      "    - $X:\\Omega \\to \\mathbb{R}$ is a random variable $\\iff$ [extra conditions?]\n",
      "- ___Probability mass function (PMF):___ How likely is it that our random variable $X$ takes the value $x$?\n",
      "    - $p_X(x) = P(X^{-1}[x])$\n",
      "    - $p_X(x) \\geqslant 0$\n",
      "    - $\\sum_{x \\in X[\\Omega]}{p_X(x)} = 1$\n",
      "    - _From Wikipedia: A PMF is the primary means of defining a discrete probability distribution_\n",
      "- _Example: Number of coin tosses until first tail. $p_X(k) = p_T(1-p)^k$. Geometric PMF._\n",
      "- _Example: Number of heads in n coin tosses. $p_X(k) = {n \\choose k} p^k(1-p)^{n-k}$._\n",
      "- ___Expected value:___ Weighted mean, center of gravity.\n",
      "    - $E[X] = \\sum_{x \\in X}{x \\cdot p_X(x)}$\n",
      "    - If $g(X)=Y \\implies E[Y] = \\sum_y y \\cdot p_Y(y) = \\sum_x g(x) \\cdot p_X(x)$\n",
      "    - In general $E \\circ g \\neq g \\circ E$\n",
      "        - However, if $g = \\alpha I + \\beta$, where $\\alpha, \\beta$ are constants, $E \\circ g = g \\circ E$.\n",
      "- ___Second moment:___ $E[X^2]$\n",
      "- ___Variance:___ $E[(X-E[X])^2] = \\sum_x {(x-E[X])^2 p_X(x)} = E[X^2]-(E[X])^2$\n",
      "    - $var(X) \\geqslant 0$\n",
      "    - $var(\\alpha X + \\beta) = \\alpha^2 \\cdot var(X)$"
     ]
    },
    {
     "cell_type": "code",
     "collapsed": false,
     "input": [
      "def toss_until_tail(k, p=0.5):\n",
      "    return p*(1-p)**k\n",
      "\n",
      "def heads_in_n_tosses(k, n, p=0.5):\n",
      "    return C(n,k) * p**k * (1-p)**(n-k)\n",
      "\n",
      "fig, [g,b] = plt.subplots(figsize=[12,4], ncols=2)\n",
      "x = np.arange(1,100)\n",
      "\n",
      "g.bar(x[:20], toss_until_tail(x[:20]))\n",
      "g.set_title(\"geometric\")\n",
      "\n",
      "b.bar(x, [heads_in_n_tosses(int(k), 100) for k in x])\n",
      "b.set_title(\"binomial\")\n"
     ],
     "language": "python",
     "metadata": {},
     "outputs": [
      {
       "metadata": {},
       "output_type": "pyout",
       "prompt_number": 38,
       "text": [
        "<matplotlib.text.Text at 0xab70fd0>"
       ]
      },
      {
       "metadata": {},
       "output_type": "display_data",
       "png": "[encoded data removed]",
       "text": [
        "<matplotlib.figure.Figure at 0xab950d0>"
       ]
      }
     ],
     "prompt_number": 38
    },
    {
     "cell_type": "markdown",
     "metadata": {},
     "source": [
      "# 6. [Discrete Random Variable Examples; Joint PMFs](http://www.youtube.com/watch?v=-qCEoqpwjf4&feature=share&list=SPUl4u3cNGP61MdtwGTqZA0MreSaDybji8&index=5)\n",
      "\n",
      "- ___Standard deviation:___ $\\sigma_X = \\sqrt {var(X)}$\n",
      "- Speed, time, distance example.\n",
      "- Conditional PMF is just a normal PMF with new probabilities (changed to fit the new information).\n",
      "- Since $p_X(x) = \\sum_i P(A_i)p_{X|A_i}(x)$, multiplying by $x$ and taking the sum we get $E[X] = \\sum_x {x \\cdot p_X(x)} = \\sum_x {\\sum_i {P(A_i) \\cdot x \\cdot p_{X|A_i}(x)}} = \\sum_i {P(A_i) \\sum_x {x p_{X|A_i}(x)}} = \\sum_i {P(A_i) \\cdot E[X|A_i]}$\n",
      "- In the case of the geometric PMF, in the example of coin tosses until tails we get $E[X] = P(x = 1)E[X|x=1] + P(x > 1)E[X|x > 1] = p \\cdot 1 + (1-p) \\cdot (E[X] + 1)$. Rearranging we get $E[X] = \\frac{1}{p}$\n",
      "    - Intuitively, $E[X|x > 1] = E[X] + 1$ because we have wasted one toss, and are in the same conditions as when we started.\n",
      "- ___Joint PMFs:___ $p_{X,Y} = P(X=x \\space and \\space Y=y)$\n",
      "    - $\\sum_x \\sum_y p_{X,Y}(x,y) = 1$\n",
      "    - __Marginal PMF:__ $p_X(x) = \\sum_y p_{X,Y}(x,y)$\n",
      "    - __Conditional PMF:__ $p_{X|Y}(x|y) = P(X=x|Y=y) = \\frac{p_{X,Y}(x,y)}{p_Y(y)}$\n",
      "- Mainly just change of notation."
     ]
    },
    {
     "cell_type": "markdown",
     "metadata": {},
     "source": [
      "# 7. [Multiple Discrete Random Variables: Expectations, Conditioning, Independence](http://www.youtube.com/watch?v=EObHWIEKGjA&list=SPUl4u3cNGP61MdtwGTqZA0MreSaDybji8&feature=share&index=6)\n",
      "\n",
      "- ___Joint, marginal and conditional probabilities___. $p_X(x) = \\sum\\limits_y p_{X,Y}(x,y)$, and $p_{X,Y}(x,y) = p_X(x) \\cdot p_{Y|X}(y|x)$. Its only change of notation.\n",
      "- ___Independence:___ $p_{\\{A_i\\}_{i \\in I}}(\\bigwedge\\limits_{i \\in J \\subseteq I} A_i = a_i) = \\prod\\limits_{i \\in J} p_{A_i}(a_i)$\n",
      "- ___Expectations:___ $E[g(X,Y)] = \\sum\\limits_x \\sum\\limits_y p_{X,Y}(x,y)$ by definition.\n",
      "    - $E[g(X,Y)] \\neq g(E[X],E[y])$ in general.\n",
      "    - Except in the linear case, as before.\n",
      "    - If $X$ and $Y$ are independent:\n",
      "        - $E[XY] = E[X] \\cdot E[Y]$\n",
      "        - $E[g(X)h(Y)] = E[g(X)] \\cdot E[h(Y)]$\n",
      "- ___Variances:___ Can be added only in special cases. for example X indep. Y. Apply the normal rules from before.\n",
      "- ___Binomial mean and variance___\n",
      "    - $X$: number of successes in n independent trials. ($p$ probability of success in each trial).\n",
      "    - $E[X] = \\sum\\limits_{k=0}^n k {n \\choose k} p^k (1-p)^{n-k}$\n",
      "    - Make the indicator random variables $X_i = \\{ 1 \\ if \\ success \\ in \\ trial \\ i, \\ else \\ 0 \\} \\implies$\n",
      "        - $E[X_i] = p$\n",
      "        - $var(X_i) = E[X_i^2] - E[X_i]^2 = p - p^2 = p(1-p)$\n",
      "    - $var(X) = \\sum var(X_i) = n \\cdot p(1-p)$\n",
      "- ___The hat problem___\n",
      "    - Expected value, mean:\n",
      "        - Same approach $X_i = 1$ if the person i got their own hat.\n",
      "        - $P(X_i) = 1/n, E[X_i] = 1/n$\n",
      "        - Are they independent. No. The hats that have been taken influence the chances of future hat withdrawals.\n",
      "        - But still, $E[X] = \\sum E[X_i] = n \\cdot 1/n = 1$\n",
      "    - Variance:\n",
      "        - $var(X) = E[X^2] - E[X]^2$\n",
      "        - $X^2 = (\\sum X_i)^2 = \\sum X_i^2 + \\sum\\limits_{i \\neq j} X_i X_j$\n",
      "        - $E[X_i^2] = E[X_i] = 1/n$\n",
      "        - $i \\neq j, \\ P(X_i=1, X_j=1) = P(X_i=1) \\cdot P(X_j=1|X_i=1) = 1/n \\cdot 1/(n-1)$\n",
      "        - $E[X_i X_j] = P(X_i=1, X_j=1) = 1/n \\cdot 1/(n-1)$, this is the weird \n",
      "    - Deeper reason why E = V in this case, not explained for now.\n",
      "\n",
      "I'm getting confused by the notation. First you define E and var as functions of random variables and then you choose the image spaces of those random variables as {0,1} so the calculations are equivalent to dealing with the underlying probabilities. Kind of convoluted."
     ]
    },
    {
     "cell_type": "code",
     "collapsed": false,
     "input": [
      "p = np.linspace(0,1,50)\n",
      "plt.plot(p, p*(1-p))"
     ],
     "language": "python",
     "metadata": {},
     "outputs": [
      {
       "metadata": {},
       "output_type": "pyout",
       "prompt_number": 5,
       "text": [
        "[<matplotlib.lines.Line2D at 0x2c29250>]"
       ]
      },
      {
       "metadata": {},
       "output_type": "display_data",
       "png": "[encoded data removed]",
       "text": [
        "<matplotlib.figure.Figure at 0x2b4a390>"
       ]
      }
     ],
     "prompt_number": 5
    },
    {
     "cell_type": "markdown",
     "metadata": {},
     "source": [
      "# 8. Continuous Random Variables\n",
      "\n",
      "# 9. Multiple Continuous Random Variables\n",
      "\n",
      "# 10. Continuous Bayes' Rule; Derived Distributions\n",
      "\n",
      "# 11. Derived Distributions; Convolution; Covariance and Correlation"
     ]
    },
    {
     "cell_type": "markdown",
     "metadata": {},
     "source": [
      "# 12. Iterated Expectations; Sum of a Random Number of Random Variables\n",
      "\n",
      "Why does he write $E[X] instead of E(X)?$\n",
      "\n",
      "- ___Conditional expectation:___\n",
      "    - $E[X|Y]$, that is the random variable $Z(y) = E(X|Y=y)$\n",
      "    - ___Law of iterated expectations:___ $E(E(X|Y)) = \\sum_y E(X|Y=y) \\cdot p_Y(y) = E(X)$\n",
      "- ___Conditional variance___: In the same way,\n",
      "    - $var(X|Y)(y) = var(X|Y=y) = E((X - E(X|Y=y))^2|Y=y)$\n",
      "    - ___Law of total variance:___ $var(X) = E(var(X|Y)) \\ + \\ var(E(X|Y))$  \n",
      "        > _Proof:_ $var(X) = E(X^2) \\ - \\ E(X)^2$, so  \n",
      "        > $var(X|Y) = E(X^2|Y) \\ - \\ E(X|Y)^2$, and taking E of both sides  \n",
      "        > $E(var(X|Y)) = E(E(X^2|Y) - E(X|Y)^2) = E(E(X^2|Y)) \\ - \\ E(E(X|Y)^2) = E(X^2) \\ - \\ E(E(X|Y)^2)$.  \n",
      "        > On the other hand $var(E(X|Y)) = E(E(x|Y)^2) \\ - \\ E(E(X|Y))^2 = E(E(X|Y)^2) \\ - \\ E(X)^2$  \n",
      "        > Summing the last 2 expressions we get: $E(var(X|Y)) \\ + \\ var(E(X|Y)) = E(X^2) \\ - \\ E(X)^2 = var(X)$\n",
      "    - Intuition for why will come later\n",
      "- Use of law of total variances to divide and conquer the computation of the variance of an rv given a pdf."
     ]
    },
    {
     "cell_type": "markdown",
     "metadata": {},
     "source": [
      "\n",
      "# 13. Bernoulli Process\n",
      "\n",
      "# 14. Poisson Process I\n",
      "\n",
      "# 15. Poisson Process II\n",
      "\n",
      "# 16. Markov Chains I\n",
      "\n",
      "# 17. Markov Chains II\n",
      "\n",
      "# 18. Markov Chains III\n",
      "\n",
      "# 19. Weak Law of Large Numbers\n",
      "\n",
      "# 20. Central Limit Theorem\n",
      "\n",
      "# 21. Bayesian Statistical Inference I\n",
      "\n",
      "# 22. Bayesian Statistical Inference II\n",
      "\n",
      "# 23. Classical Statistical Inference I\n",
      "\n",
      "# 24. Classical Inference II\n",
      "\n",
      "# 25. Classical Inference III; Course Overview"
     ]
    }
   ],
   "metadata": {}
  }
 ]
}