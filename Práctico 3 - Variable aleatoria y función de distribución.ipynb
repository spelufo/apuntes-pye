{
 "metadata": {
  "name": ""
 },
 "nbformat": 3,
 "nbformat_minor": 0,
 "worksheets": [
  {
   "cells": [
    {
     "cell_type": "code",
     "collapsed": false,
     "input": [
      "%pylab inline --no-import-all\n",
      "import pylab as plt\n",
      "# plt.xkcd(randomness=1.6)\n",
      "from pye import *"
     ],
     "language": "python",
     "metadata": {},
     "outputs": [
      {
       "output_type": "stream",
       "stream": "stdout",
       "text": [
        "Populating the interactive namespace from numpy and matplotlib\n"
       ]
      }
     ],
     "prompt_number": 3
    },
    {
     "cell_type": "markdown",
     "metadata": {},
     "source": [
      "## 3. [Variable aleatoria y funci\u00f3n de distribuci\u00f3n](files/practicos/p3.pdf)\n",
      "__[soluci\u00f3n](files/practicos/s3.pdf)__\n",
      "\n",
      "Clase 5 Y 6\n",
      "Variables aleatorias. Ejemplos. Tipos de V.A. Definici\u00f3n de funci\u00f3n de distribuci\u00f3n. Propiedades de la funci\u00f3n de distribuci\u00f3n. Problema de muestreo con y sin reposici\u00f3n. Distribuci\u00f3n binomial e hipergeom\u00e9trica. Obtenci\u00f3n de las distribuciones contando casos favorables sobre casos posibles y reinterpretaci\u00f3n de la binomial en el contexto de repeticiones independientes."
     ]
    },
    {
     "cell_type": "heading",
     "level": 2,
     "metadata": {},
     "source": [
      "Ejercicio 1"
     ]
    },
    {
     "cell_type": "markdown",
     "metadata": {},
     "source": [
      "Juzgando por lo que encontr\u00e9 en internet, recorrido sin\u00f3nimo de imagen. Interpretandolo de esta forma la gr\u00e1fica ser\u00eda:"
     ]
    },
    {
     "cell_type": "code",
     "collapsed": false,
     "input": [
      "distribucion = { -2: 1./6.,\n",
      "                 -1: 1./6.,\n",
      "                  1: 1./6.,\n",
      "                1.5: 1./4.,\n",
      "                  5: 1./4. }\n",
      "\n",
      "# F(x) = P(X <= x)\n",
      "def F(d, x):\n",
      "    try:\n",
      "        return sum([d[k] for k in d if k <= x])\n",
      "    except:\n",
      "        return [F(d,xe) for xe in x]\n",
      "\n",
      "hor = np.arange(-5,8, 0.5)\n",
      "fd = F(distribucion, hor)\n",
      "\n",
      "\n",
      "fig = plt.figure()\n",
      "ax = fig.add_subplot(1,1,1)\n",
      "ax.set_xlim([-4.5, 7.5])\n",
      "ax.set_ylim([-0.05, 1.05])\n",
      "ax.step(hor, fd, where=\"post\")\n",
      "for i in range(1,len(hor)-1):\n",
      "    if fd[i] != fd[i+1]:        \n",
      "        ax.plot([hor[i+1],hor[i+1]],[0,fd[i+1]],'w-', lw=5)\n",
      "        ax.plot([hor[i+1],hor[i+1]],[fd[i],fd[i+1]],'b--')"
     ],
     "language": "python",
     "metadata": {},
     "outputs": [
      {
       "metadata": {},
       "output_type": "display_data",
       "png": "[encoded data removed]",
       "text": [
        "<matplotlib.figure.Figure at 0x28b87d0>"
       ]
      }
     ],
     "prompt_number": 2
    },
    {
     "cell_type": "heading",
     "level": 2,
     "metadata": {},
     "source": [
      "Ejercicio 2"
     ]
    },
    {
     "cell_type": "markdown",
     "metadata": {},
     "source": [
      "$\\alpha$ tiene que ser 1 porque el l\u00edmite de una funci\u00f3n de distribuci\u00f3n en el infinito tiene que ser 1.\n",
      "$beta$ tiene que ser un cuarto porque F(x) tiene que ser continua por la derecha. Hablando mal, cuando pega un salto la contribuci\u00f3n de la distribuci\u00f3n de ese valor de x es la que la hace pegar el salto, y debe ser sumada al valor de la funci\u00f3n inmediatamente tal que el valor de F(x) sea el de llegada.\n",
      "\n",
      "Me confunde un poco el que no sea discreta la distribuci\u00f3n, falta leer te\u00f3rico de esto."
     ]
    },
    {
     "cell_type": "code",
     "collapsed": false,
     "input": [
      "fig = plt.figure()\n",
      "ax = fig.add_subplot(1,1,1)\n",
      "ax.set_xlim([-1, 2])\n",
      "ax.set_ylim([0, 1])\n",
      "r = 0.005\n",
      "a = np.arange(-1,0,r)\n",
      "ax.plot(a, 0.25*np.exp(a), 'b')\n",
      "ax.plot([0,1],[0.25,0.25], 'b')\n",
      "b = np.arange(1,2,r)\n",
      "ax.plot(b, b / (1 + b), 'b')\n",
      "ax.plot([0,0],[0,0.25],'k--')\n",
      "ax.plot([1,1],[0,0.5],'k--')"
     ],
     "language": "python",
     "metadata": {},
     "outputs": [
      {
       "metadata": {},
       "output_type": "pyout",
       "prompt_number": 5,
       "text": [
        "[<matplotlib.lines.Line2D at 0x2f735d0>]"
       ]
      },
      {
       "metadata": {},
       "output_type": "display_data",
       "png": "[encoded data removed]",
       "text": [
        "<matplotlib.figure.Figure at 0x28db490>"
       ]
      }
     ],
     "prompt_number": 5
    },
    {
     "cell_type": "code",
     "collapsed": false,
     "input": [
      "epsilon = 0 # porque no puede ser decreciente y de ser positivo F -> +inf cuando x -> +inf\n",
      "delta = 1 # porque F -> 1 cuando x -> +inf\n",
      "alpha = 0 # porque F -> 0 cuando x -> -inf\n",
      "# gamma + beta = 1 porque debe ser continua por la derecha en x=1\n",
      "# gamma - beta = 1/e porque debe ser continua por la derecha en x=-1\n",
      "gamma = (1. + 1./np.e)/2.\n",
      "beta = 1 - gamma\n",
      "\n",
      "fig = plt.figure()\n",
      "ax = fig.add_subplot(1,1,1)\n",
      "ax.set_xlim([-2, 2])\n",
      "ax.set_ylim([0, 1.05])\n",
      "r = 0.005\n",
      "a = np.arange(-2,-1,r)\n",
      "ax.plot(a, alpha + np.exp(a), 'b')\n",
      "b = np.arange(-1,1,r)\n",
      "ax.plot(b, gamma + beta*b, 'b')\n",
      "ax.plot([1,2],[delta,delta], 'b')\n",
      "ax.plot([1,1],[0,delta],'k--')\n",
      "ax.plot([-1,-1],[0,1/np.e],'k--')"
     ],
     "language": "python",
     "metadata": {},
     "outputs": [
      {
       "metadata": {},
       "output_type": "pyout",
       "prompt_number": 8,
       "text": [
        "[<matplotlib.lines.Line2D at 0x452a190>]"
       ]
      },
      {
       "metadata": {},
       "output_type": "display_data",
       "png": "[encoded data removed]",
       "text": [
        "<matplotlib.figure.Figure at 0x4505890>"
       ]
      }
     ],
     "prompt_number": 8
    },
    {
     "cell_type": "heading",
     "level": 2,
     "metadata": {},
     "source": [
      "Ejercicio 3"
     ]
    },
    {
     "cell_type": "markdown",
     "metadata": {},
     "source": [
      "Demostraciones completas en pdf de soluciones. El principio general es usar que $F_X(a) = P(X \\geqslant a)$, y ${lim}_{x \\to a^-} F_X(x) = P(X < a) $ para poder expresar esa P en funcion de otras por propiedades entre operaciones de conjuntos y sus probabilidades. Luego se usa la definici\u00f3n para volver a F's"
     ]
    },
    {
     "cell_type": "heading",
     "level": 2,
     "metadata": {},
     "source": [
      "Ejercicio 4"
     ]
    },
    {
     "cell_type": "markdown",
     "metadata": {},
     "source": [
      "1. Se puede hacer como el ejercicio anterior, pero por ser un caso que no depende de x se ve que la (CDF: Cumulative Distribution Function) FDA funci\u00f3n de distribuci\u00f3n acumulada proviene de una distribuci\u00f3n (PDF o PMF) f tal que:  \n",
      "    \n",
      "    - $P(X=-3) = f(-3) = 1/4$  \n",
      "    - $P(X=1) = f(1) = 1/2$  \n",
      "    - $P(X=2) = f(2) = 1/4$  \n",
      "    \n",
      "    con lo cual, si cada uno de estos puntos pertenece al intervalo, se suma su probabilidad al total.\n",
      "    \n",
      "    1. $P(-3 \\geqslant X \\geqslant 1) = 3/4$\n",
      "    1. $P(-3 < X \\geqslant 1) = 1/2$\n",
      "    1. $P(-3 \\geqslant X < 1) = 1/4$\n",
      "    1. $P(-3 < X < 1) = 0$\n",
      "    1. $P(-2 < X < 2) = 1/2$\n",
      "    1. $P(-1 < X < 0) = 0$\n",
      "\n",
      "    Esta f se puede interpretar como una PMF o como una PDF: $ F_X(x) = \\sum_{X \\in \\{-3,1,2\\}}P(X)\\cdot \\delta_X(x)$\n",
      "\n",
      "2. De forma similar se puede armar una FDP rara, con mezcla de deltas (sobre el n\u00famero) y funciones constantes (que se corresponden a las secciones lineales de la FDA). Esquematicamente:\n",
      "\n",
      "        1/4       1/12           1/6       1/6 1/12  1/8      1/8\n",
      "        -+---------+---------+---------+---------+---------+---------+-\n",
      "         0         1         2         3         4         5         6\n",
      "                   [---------------------------------------]               P([1,5]) = 1/12 + 1/6 + 1/6 + 1/12 + 1/8 = 5/8\n",
      "                             (-------------------]                         P((2,4]) = 1/6 + 1/6 + 1/12 = 5/12\n",
      "         (---------)                                                       P((0,1)) = 0\n",
      "                                                 [-------------------)     P([4,6)) = 1/12 + 1/8 + 1/8 = 1/3"
     ]
    },
    {
     "cell_type": "heading",
     "level": 2,
     "metadata": {},
     "source": [
      "Ejercicio 5"
     ]
    },
    {
     "cell_type": "markdown",
     "metadata": {},
     "source": [
      "De un grupo de 16 estudiantes de los cuales 5 estudian econom\u00eda, 4 contabilidad y 7 administraci\u00f3n se eligen 3 al azar para formar una comisi\u00f3n.\n",
      "\n",
      "1. Hallar la probabilidad de que los 3 estudien econom\u00eda.\n",
      "2. Hallar la probabilidad de que al menos 2 estudien econom\u00eda.\n",
      "3. Sea X la variable aleatoria que cuenta la cantidad de estudiantes de econom\u00eda que integran la comisi\u00f3n. Hallar y graficar la funci\u00f3n de distribuci\u00f3n FX."
     ]
    },
    {
     "cell_type": "code",
     "collapsed": false,
     "input": [
      "# f = [[P(i economos)]]\n",
      "f = [1.*C(5,i)*C(11,3-i)/C(16,3) for i in range(4)]\n",
      "\n",
      "print \"1)\", f[3]\n",
      "print \"2)\", sum(f[2:])\n",
      "print \"3)\"\n",
      "\n",
      "F = [sum(f[:i]) for i in range(1,len(f)+1)]\n",
      "\n",
      "ax = (plt.figure()).add_subplot(1,1,1)\n",
      "ax.set_xlim([-1, 4])\n",
      "ax.set_ylim([0, 1.05])\n",
      "ax.bar([0,1,2,3], f, align=\"center\", alpha=0.5)\n",
      "ax.step([-1,0,1,2,3,4], [0] + F + [1], 'r', where=\"post\")"
     ],
     "language": "python",
     "metadata": {},
     "outputs": [
      {
       "output_type": "stream",
       "stream": "stdout",
       "text": [
        "1) 0.0178571428571\n",
        "2) 0.214285714286\n",
        "3)\n"
       ]
      },
      {
       "metadata": {},
       "output_type": "pyout",
       "prompt_number": 32,
       "text": [
        "[<matplotlib.lines.Line2D at 0x555c790>]"
       ]
      },
      {
       "metadata": {},
       "output_type": "display_data",
       "png": "[encoded data removed]",
       "text": [
        "<matplotlib.figure.Figure at 0x56ff490>"
       ]
      }
     ],
     "prompt_number": 32
    },
    {
     "cell_type": "heading",
     "level": 2,
     "metadata": {},
     "source": [
      "Ejercicio 6"
     ]
    },
    {
     "cell_type": "markdown",
     "metadata": {},
     "source": [
      "Se presentan para un cargo de gerente 5 personas de las cuales 3 son contadores. Luego de estudiar los correspondientes antecedentes, se determina que los m\u00e9ritos son similares y por lo tanto la elecci\u00f3n se har\u00eda teniendo en cuenta solamente el car\u00e1cter de contador. El jefe de personal comienza a llamar al azar a los 5 involucrados. Si la primera persona cumple el requisito lo elige, de lo contrario llama al siguiente. De esa manera procede hasta conseguir el candidato contador. Sea $X$ la variable aleatoria que cuenta la cantidad de entrevistas efectuadas.\n",
      "\n",
      "1. Hallar y graficar la funci\u00f3n de distribuci\u00f3n $F_X$.\n",
      "2. Hallar la probabilidad que se hagan al menos 2 entrevistas."
     ]
    },
    {
     "cell_type": "code",
     "collapsed": false,
     "input": [
      "primero = 3./5.\n",
      "segundo = 2./5. * 3./4.\n",
      "tercero = 2./5. * 1./4. # * 3./3.\n",
      "f = [primero, segundo, tercero]\n",
      "F = [sum(f[:i]) for i in range(1,len(f)+1)]\n",
      "\n",
      "ax = (plt.figure()).add_subplot(1,1,1)\n",
      "ax.set_xlim([0, 4])\n",
      "ax.set_ylim([0, 1.05])\n",
      "ax.bar([1,2,3], f, align=\"center\", alpha=0.5)\n",
      "ax.step([0,1,2,3,4], [0] + F + [1], 'r', where=\"post\")\n",
      "\n",
      "print \"2)\", sum(f[1:])\n",
      "print \"1)\""
     ],
     "language": "python",
     "metadata": {},
     "outputs": [
      {
       "output_type": "stream",
       "stream": "stdout",
       "text": [
        "2) 0.4\n",
        "1)\n"
       ]
      },
      {
       "metadata": {},
       "output_type": "display_data",
       "png": "[encoded data removed]",
       "text": [
        "<matplotlib.figure.Figure at 0x6b56110>"
       ]
      }
     ],
     "prompt_number": 39
    },
    {
     "cell_type": "heading",
     "level": 2,
     "metadata": {},
     "source": [
      "Ejercicio 7"
     ]
    },
    {
     "cell_type": "code",
     "collapsed": false,
     "input": [
      "from random import randint\n",
      "\n",
      "fig = plt.figure()\n",
      "\n",
      "x = range(1,7)\n",
      "teo = [1-k/6. for k in range(6)]\n",
      "\n",
      "for p,n in zip([1,2,3],[10, 100, 1000]):\n",
      "    ax = fig.add_subplot(1,3,p)\n",
      "    F = [0,0,0,0,0,0]\n",
      "    for i in range(n): # tirar n veces\n",
      "        for j in range(randint(1,6)):\n",
      "            F[j] += 1 # tirada salio menor o igual a j\n",
      "    F = np.array(F)/float(n)\n",
      "    ax.step(x, teo, 'r')\n",
      "    ax.step(x, F)\n",
      "    print F\n",
      "    \n",
      "print \"\"\n",
      "print teo"
     ],
     "language": "python",
     "metadata": {},
     "outputs": [
      {
       "output_type": "stream",
       "stream": "stdout",
       "text": [
        "[ 1.   0.6  0.4  0.3  0.2  0.2]\n",
        "[ 1.    0.8   0.6   0.42  0.34  0.21]"
       ]
      },
      {
       "output_type": "stream",
       "stream": "stdout",
       "text": [
        "\n",
        "[ 1.     0.837  0.677  0.508  0.337  0.158]"
       ]
      },
      {
       "output_type": "stream",
       "stream": "stdout",
       "text": [
        "\n",
        "\n",
        "[1.0, 0.8333333333333334, 0.6666666666666667, 0.5, 0.33333333333333337, 0.16666666666666663]\n"
       ]
      },
      {
       "metadata": {},
       "output_type": "display_data",
       "png": "[encoded data removed]",
       "text": [
        "<matplotlib.figure.Figure at 0x2f75290>"
       ]
      }
     ],
     "prompt_number": 29
    }
   ],
   "metadata": {}
  }
 ]
}