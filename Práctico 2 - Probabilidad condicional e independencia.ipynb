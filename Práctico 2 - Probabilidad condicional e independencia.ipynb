{
 "metadata": {
  "name": ""
 },
 "nbformat": 3,
 "nbformat_minor": 0,
 "worksheets": [
  {
   "cells": [
    {
     "cell_type": "markdown",
     "metadata": {},
     "source": [
      "# 2. [Probabilidad condicional e independencia](files/practicos/p2.pdf)\n",
      "__[soluci\u00f3n](files/practicos/s2.pdf)__\n",
      "\n",
      "Clases 3 y 4\n",
      "Probabilidad condicional. Sucesos independientes. F\u00f3rmula de Bayes. Reglas multiplicativas."
     ]
    },
    {
     "cell_type": "heading",
     "level": 2,
     "metadata": {},
     "source": [
      "Ejercicio 1"
     ]
    },
    {
     "cell_type": "markdown",
     "metadata": {},
     "source": [
      "Calcular $P(A|B)$ en los siguientes casos:  \n",
      "\n",
      "1. $B \\subset A$. $P(A|B) = 1$\n",
      "2. $A \\cap B = \\emptyset$. $P(A|B) = 0$\n",
      "3. Si $P(B) = 0$, puede pasar cualquier cosa. (No aporta informaci\u00f3n)"
     ]
    },
    {
     "cell_type": "heading",
     "level": 2,
     "metadata": {},
     "source": [
      "Ejercicio 2"
     ]
    },
    {
     "cell_type": "markdown",
     "metadata": {},
     "source": [
      "___Def. Eventos independientes:___ $A$ y $B$ son eventos independientes $\\iff P(A \\cap B) = P(A) P(B).$\n",
      "\n",
      "     _____  \n",
      "    |AB|CB|\n",
      "    |__|__|\n",
      "    |A |C |\n",
      "    |__|__|\n",
      "\n",
      "No es transitiva. Contraejemplo: Two Coin flips.  \n",
      "$A$: '-H' $P(A) = 1/2$  \n",
      "$B$: 'H-' $P(B) = 1/2$  \n",
      "$C$: '-T' $P(c) = 1/2$  \n",
      "\n",
      "$P(A \\cap B) = 1/4$, independent.  \n",
      "$P(B \\cap C) = 1/4$, independent.  \n",
      "$P(A \\cap C) = 0$, not independent.  "
     ]
    },
    {
     "cell_type": "heading",
     "level": 2,
     "metadata": {},
     "source": [
      "Ejercicio 3"
     ]
    },
    {
     "cell_type": "markdown",
     "metadata": {},
     "source": [
      "Demostrar que $A$ es independiente de si mismo solo si tiene probabilidad 1 o 0.\n",
      "\n",
      "$P(A \\cap A) = P(A) = {P(A)}^2 \\iff P(A) = 0 $ or $ P(A) = 1$"
     ]
    },
    {
     "cell_type": "heading",
     "level": 2,
     "metadata": {},
     "source": [
      "Ejercicio 4"
     ]
    },
    {
     "cell_type": "markdown",
     "metadata": {},
     "source": [
      "$P(A) = 1/4, P(A \\cup B) = 1/3$. Calcular $P(B)$ si:\n",
      "\n",
      "1. $A$ y $B$ son independientes:  \n",
      "    \n",
      "    $P(A \\cup B) = P(A) + P(B) - P(A \\cap B)$  \n",
      "    $\\implies 1/3 = 1/4 + P(B) - (1/4)P(B)$  \n",
      "    $\\implies P(B) = 1/9$  \n",
      "    >    \n",
      "    \n",
      "2. $A$ y $B$ son disjuntos/excluyentes:  \n",
      "    \n",
      "    $P(A \\cup B) = P(A) + P(B)$  \n",
      "    $\\implies P(B) = 1/3 - 1/4 = 1/12$\n",
      "    >    \n",
      "    \n",
      "3. $A$ subconjunto de $B$:  \n",
      "    \n",
      "    $P(A \\cup B) = P(B) = 1/3$\n",
      "    >    "
     ]
    },
    {
     "cell_type": "heading",
     "level": 2,
     "metadata": {},
     "source": [
      "Ejercicio 5"
     ]
    },
    {
     "cell_type": "markdown",
     "metadata": {},
     "source": [
      "$P(A) = 1/2, P(B) = 1/3, P(A \\cap B) = 1/4$.\n",
      "\n",
      "1. $P(A|B) = P(A \\cap B) / P(B) = 3/4$\n",
      "2. $P(B|A) = P(A \\cap B) / P(A) = 1/2$\n",
      "3. $P(A^C|B) = 1/4$\n",
      "4. $P(B^C|A) = 1/2$\n",
      "5. $P(A^C|B^C) = \\frac {P(A^C \\cap B^C)}{P(B^C)} = \\frac {P((A \\cup B)^C)}{P(B^C)} = \\frac {1 - P(A \\cup B)} {1 - P(B)} = \\frac {1 - P(A) - P(B) + P(A \\cap B)} {1 - P(B)} = \\frac{5}{8}$\n",
      "6. $P(B^C|A^C) = \\frac {1 - P(A) - P(B) + P(A \\cap B)} {1 - P(A)} = \\frac{5}{6}$\n"
     ]
    },
    {
     "cell_type": "heading",
     "level": 2,
     "metadata": {},
     "source": [
      "Ejercicio 6"
     ]
    },
    {
     "cell_type": "markdown",
     "metadata": {},
     "source": [
      "1. Caja con 12 lamparas, 4 defectuosas. Saco 3 al azar una tras otra.  \n",
      "      \n",
      "    $P(${ninguna l\u00e1mpara defectuosa}$) = P(${1 OK}$) P(${2 OK}|{1 OK}$) P(${3 OK}|{1 OK y 2 OK}$) = \\frac{8}{12} \\frac{7}{11} \\frac{6}{10} = 0.25454545...$\n",
      "    >    \n",
      "\n",
      "2. 3 cajas con 10, 6 y 8 lamparas, 4, 1 y 3 defectuosas respectivamente en cada caja. Se elige caja al azar, luego lampara al azar. Prob que sea defec.?  \n",
      "          \n",
      "    $P(D) = P(C_1) P(D|C_1) + P(C_2) P(D|C_2) + P(C_3) P(D|C_3)$$ = \\frac{1}{3} (\\frac{4}{10} + \\frac{1}{6} + \\frac{3}{8}) = 0.313888...$\n",
      "    >    "
     ]
    },
    {
     "cell_type": "heading",
     "level": 2,
     "metadata": {},
     "source": [
      "Ejercicio 7"
     ]
    },
    {
     "cell_type": "markdown",
     "metadata": {},
     "source": [
      "> Una caja tiene dos canicas rojas, una blanca y una negra. Una persona extrae de la caja dos canicas, y asegura que tiene una roja. Cu\u00e1l es la probabilidad de que la otra canica tambi\u00e9n sea roja?\n",
      "\n",
      "### Error de interpretaci\u00f3n\n",
      "\n",
      "__Intuitivamente__ es $1/3$, por las bolas que quedan en la bosla si sac\u00f3 la primera canica roja.  \n",
      "\n",
      "__Formalmente__ $P(RR|R-) = \\frac{P(RR \\cap R-)}{P(R-)} = \\frac{P(RR)}{P(R-)} = \\frac{2}{4} \\frac{1}{3} / \\frac{2}{4} = \\frac{1}{3}$\n",
      "\n",
      "La raz\u00f3n del error es que estoy asumiendo que lo v\u00ed sacar (o me lo asegur\u00f3 honestamente) la __primera__ bola roja. Pero esto no es lo que dijo: dijo que sac\u00f3 (al menos) una roja. Puede ser la primera o la segunda.\n",
      "\n",
      "### Forma correcta\n",
      "\n",
      "Hay que considerar todas las sacadas y contar las que cumplen que al menos una es R. Numerando las canicas del 1 al 4:\n",
      "$\\{12, 13, 14, 23, 24, 34\\}$ son todas las posibilidades. Si 1 y 2 son R, $\\frac{5}{6}$ posibilidades tienen al menos una roja, y solo $\\frac{1}{6}$ las dos. Entonces $P(RR|R) = \\frac{1}{5}$"
     ]
    },
    {
     "cell_type": "heading",
     "level": 2,
     "metadata": {},
     "source": [
      "Ejercicio 8"
     ]
    },
    {
     "cell_type": "markdown",
     "metadata": {},
     "source": [
      "> Se considera una caja que contiene 6 bolillas rojas, 4 blancas y 5 azules. Se extraen tres bolillas en forma sucesiva (sin reposici\u00f3n). Calcular la probabilidad que la primera sea roja, la segunda blanca y la tercera azul.\n",
      "\n",
      "$P(RBA) = P(R) P(B|R) P(A|RB) = \\frac{6}{15} \\frac{4}{14} \\frac{5}{13}$\n",
      "\n",
      "> Se consideran dos cajas con bolas. La caja 1 contiene 3 bolas rojas y 2 azules, la caja 2 contiene 2 bolas rojas y 8 azules. Se lanza una moneda, si se obtiene cara se saca una bola de la caja 1, y si se obtiene cruz se saca una bola de la caja 2.  \n",
      "> \n",
      "> a. Hallar la probabilidad que la bola extra\u00edda sea roja.  \n",
      "> b. Si se sabe que la bola extra\u00edda es roja, \u00bfCu\u00e1l es la probabilidad que provenga de la caja 1?  \n",
      "\n",
      "a. $P(R) = P(C_1)P(R|C_1) + P(C_2)P(R|C_2) = 0.5 (\\frac{3}{5}+\\frac{2}{10}) = 0.4$  \n",
      "b. $P(C_1|R) = \\frac{P(C_1)P(R|C_1)}{P(R)} = 0.75$  \n"
     ]
    },
    {
     "cell_type": "heading",
     "level": 2,
     "metadata": {},
     "source": [
      "Ejercicio 9"
     ]
    },
    {
     "cell_type": "markdown",
     "metadata": {},
     "source": [
      "> Tres jugadores tiran al blanco. Sean p1 = 1/6; p2 = 1/4; p3 = 1/3 las probabilidades de acierto al blanco de los respectivos jugadores. Sabiendo que cada jugador realiza un lanzamiento, calcular la probabilidad de que el blanco sea alcanzado solamente una vez.  \n",
      "\n",
      "$P(${un acierto}$) = P(100) + P(010) + P(001) = \\frac{1}{6}(1-\\frac{1}{4})(1-\\frac{1}{3}) + (1-\\frac{1}{6})\\frac{1}{4}(1-\\frac{1}{3}) + (1-\\frac{1}{6})(1-\\frac{1}{4})\\frac{1}{3} = 0.36111....$\n"
     ]
    },
    {
     "cell_type": "code",
     "collapsed": false,
     "input": [
      "solo_primero_acierta = (1./6.)*(3./4.)*(2./3.)\n",
      "solo_segundo_acierta = (5./6.)*(1./4.)*(2./3.)\n",
      "solo_tercero_acierta = (5./6.)*(3./4.)*(1./3.)\n",
      "un_acierto = solo_primero_acierta + solo_segundo_acierta + solo_tercero_acierta\n",
      "print un_acierto"
     ],
     "language": "python",
     "metadata": {},
     "outputs": [
      {
       "output_type": "stream",
       "stream": "stdout",
       "text": [
        "0.430555555556\n"
       ]
      }
     ],
     "prompt_number": 9
    },
    {
     "cell_type": "markdown",
     "metadata": {},
     "source": [
      ">  Sabiendo que s\u00f3lo uno da en el blanco, calcular la probabilidad que haya sido el jugador 1."
     ]
    },
    {
     "cell_type": "code",
     "collapsed": false,
     "input": [
      "print solo_primero_acierta/un_acierto, \"==\", 6./31."
     ],
     "language": "python",
     "metadata": {},
     "outputs": [
      {
       "output_type": "stream",
       "stream": "stdout",
       "text": [
        "0.193548387097 == 0.193548387097\n"
       ]
      }
     ],
     "prompt_number": 12
    },
    {
     "cell_type": "markdown",
     "metadata": {},
     "source": [
      "> Ahora cada jugador lanza dos veces, p1 = 1/4; p2 = 1/3 y p3 = 1/3. Hallar la probabilidad de que el blanco sea alcanzado por lo menos una vez."
     ]
    },
    {
     "cell_type": "code",
     "collapsed": false,
     "input": [
      "# Exactamente una vez\n",
      "p1 = 0.25\n",
      "p2 = 1./3.\n",
      "p3 = 1./3.\n",
      "# primero_acierta = 2 * p1*(1-p1) * (1-p2)**2 * (1-p3)**2\n",
      "# segundo_acierta = 2 * (1-p1)**2 * p2*(1-p2) * (1-p3)**2\n",
      "# tercero_acierta = 2 * (1-p1)**2 * (1-p2)**2 * p3*(1-p3)\n",
      "# un_acierto = primero_acierta + segundo_acierta + tercero_acierta\n",
      "# print un_acierto"
     ],
     "language": "python",
     "metadata": {},
     "outputs": [],
     "prompt_number": 17
    },
    {
     "cell_type": "code",
     "collapsed": false,
     "input": [
      "nunca_aciertan = (1-p1)**2 * (1-p2)**2 * (1-p3)**2\n",
      "print 1 - nunca_aciertan"
     ],
     "language": "python",
     "metadata": {},
     "outputs": [
      {
       "output_type": "stream",
       "stream": "stdout",
       "text": [
        "0.888888888889\n"
       ]
      }
     ],
     "prompt_number": 19
    },
    {
     "cell_type": "markdown",
     "metadata": {},
     "source": [
      "> Si ahora cada uno dispara una vez. Sabiendo que el blanco fue alcanzado solamente una vez, hallar la probabilidad que haya sido el jugador 1 (las probabilidad de la parte anterior)."
     ]
    },
    {
     "cell_type": "code",
     "collapsed": false,
     "input": [
      "solo_primero_acierta = p1*(1-p2)*(1-p3)\n",
      "solo_segundo_acierta = (1-p1)*p2*(1-p3)\n",
      "solo_tercero_acierta = (1-p1)*(1-p2)*p3\n",
      "un_acierto = solo_primero_acierta + solo_segundo_acierta + solo_tercero_acierta\n",
      "print solo_primero_acierta / un_acierto"
     ],
     "language": "python",
     "metadata": {},
     "outputs": [
      {
       "output_type": "stream",
       "stream": "stdout",
       "text": [
        "0.25\n"
       ]
      }
     ],
     "prompt_number": 21
    },
    {
     "cell_type": "heading",
     "level": 2,
     "metadata": {},
     "source": [
      "Ejercicio 10"
     ]
    },
    {
     "cell_type": "markdown",
     "metadata": {},
     "source": [
      "> Se ha observado que los hombres y las mujeres reaccionan de forma diferente en determinada circunstancia; el 70% de las mujeres reacciona positivamente, mientras s\u00f3lo el 40% de los hombres reacciona positivamente ante la misma circunstancia. Se someti\u00f3 una prueba a un grupo de 20 personas, 15 mujeres y 5 hombres para descubrir sus reacciones. Una prueba escogida al azar de las 20 result\u00f3 negativa. __Cu\u00e1l es la probabilidad de que haya sido realizada por un hombre?__\n",
      "\n",
      "\n",
      "$P(H|-) = \\frac{P(H \\cap -)}{P(-)} = \\frac{P(-|H)P(H)}{P(-|H)P(H)+P(-|M)P(M)} = \\frac{0.6 \\times 0.25}{0.6 \\times 0.25 + 0.3 \\times 0.75} = 0.4$"
     ]
    },
    {
     "cell_type": "code",
     "collapsed": false,
     "input": [
      "print 0.6*0.25/( 0.6*0.25+0.3*0.75)"
     ],
     "language": "python",
     "metadata": {},
     "outputs": [
      {
       "output_type": "stream",
       "stream": "stdout",
       "text": [
        "0.4\n"
       ]
      }
     ],
     "prompt_number": 28
    },
    {
     "cell_type": "heading",
     "level": 2,
     "metadata": {},
     "source": [
      "Ejercicio 11"
     ]
    },
    {
     "cell_type": "markdown",
     "metadata": {},
     "source": [
      "1. Ver [soluciones](files/practicos/s2.pdf)"
     ]
    },
    {
     "cell_type": "code",
     "collapsed": false,
     "input": [
      "partido1 = 35./100.\n",
      "partido2 = 31./100.\n",
      "partido3 = 28./100.\n",
      "partido4 = 6./100.\n",
      "inf_2sal_min_partido1 = 36./100.\n",
      "inf_2sal_min_partido2 = 54./100.\n",
      "inf_2sal_min_partido3 = 42./100.\n",
      "inf_2sal_min_partido4 = 11./100.\n",
      "\n",
      "#probabilidad de que una persona con salario inferior a 2 salarios minimos sea adherente a cada partido:\n",
      "inf_2sal_min = partido1*inf_2sal_min_partido1 + partido2*inf_2sal_min_partido2 + partido3*inf_2sal_min_partido3 + partido4*inf_2sal_min_partido4\n",
      "ad1 = partido1*inf_2sal_min_partido1 / inf_2sal_min\n",
      "ad2 = partido2*inf_2sal_min_partido2 / inf_2sal_min\n",
      "ad3 = partido3*inf_2sal_min_partido3 / inf_2sal_min\n",
      "ad4 = partido4*inf_2sal_min_partido4 / inf_2sal_min\n",
      "print \"I:\", ad1*100, \"%\"\n",
      "print \"II:\", ad2*100, \"%\"\n",
      "print \"III:\", ad3*100, \"%\"\n",
      "print \"IV:\", ad4*100, \"%\""
     ],
     "language": "python",
     "metadata": {},
     "outputs": [
      {
       "output_type": "stream",
       "stream": "stdout",
       "text": [
        "I: 30.1724137931 %\n",
        "II: 40.0862068966 %\n",
        "III: 28.1609195402 %\n",
        "IV: 1.58045977011 %\n"
       ]
      }
     ],
     "prompt_number": 32
    },
    {
     "cell_type": "markdown",
     "metadata": {},
     "source": [
      "> Tres m\u00e1quinas A, B y C producen respectivamente 50 %, 30 % y 20 % del n\u00famero total de art\u00edculos de una f\u00e1brica. Los porcentajes de producci\u00f3n de defectuosos de cada m\u00e1quina son 3 %, 4 % y 5 % respectivamente. Se toma al azar un art\u00edculo de la producci\u00f3n total. Si el art\u00edculo seleccionado es defectuoso, hallar la probabilidad de que haya sido producido por la m\u00e1quina A.  "
     ]
    },
    {
     "cell_type": "code",
     "collapsed": false,
     "input": [
      "prodA = 0.5\n",
      "prodB = 0.3\n",
      "prodC = 0.2\n",
      "defA = 0.03\n",
      "defB = 0.04\n",
      "defC = 0.05\n",
      "\n",
      "# P(A|D) = P(D|A)P(A)/P(D)\n",
      "# P(D) = P(D|A)P(A) + P(D|B)P(B) + P(D|C)P(C)\n",
      "print \"P(A|D) =\", defA*prodA/(defA*prodA + defB*prodB + defC*prodC)"
     ],
     "language": "python",
     "metadata": {},
     "outputs": [
      {
       "output_type": "stream",
       "stream": "stdout",
       "text": [
        "P(A|D) = 0.405405405405\n"
       ]
      }
     ],
     "prompt_number": 38
    },
    {
     "cell_type": "heading",
     "level": 2,
     "metadata": {},
     "source": [
      "Ejercicio 12"
     ]
    },
    {
     "cell_type": "code",
     "collapsed": false,
     "input": [
      "pA = 0.25\n",
      "pB = 0.5\n",
      "pC = 0.95\n",
      "pD_given_AorBorC = 0.9\n",
      "pD_given_not_AorBorC = 0\n",
      "\n",
      "# P(D and (A or B or C)) = P(D|A or B or C) * P(A or B or C)\n",
      "pAorBorC = pA + pB + pC - pA*pB - pB*pC - pC*pA + pA*pB*pC\n",
      "pD_and_AorBorC = pD_given_AorBorC * pAorBorC\n",
      "print \"P(D and (A or B or C)) =\", pD_and_AorBorC"
     ],
     "language": "python",
     "metadata": {},
     "outputs": [
      {
       "output_type": "stream",
       "stream": "stdout",
       "text": [
        "P(D and (A or B or C)) = 0.883125\n"
       ]
      }
     ],
     "prompt_number": 39
    },
    {
     "cell_type": "heading",
     "level": 2,
     "metadata": {},
     "source": [
      "Ejercicio 13 Primer parcial, mayo de 1999"
     ]
    },
    {
     "cell_type": "code",
     "collapsed": false,
     "input": [
      "partidoA = 0.40\n",
      "partidoB = 0.35\n",
      "partidoC = 0.25\n",
      "deAaOtro = .1\n",
      "deBaA = .15\n",
      "deCaA = .05\n",
      "\n",
      "votosA = partidoA*(1-deAaOtro) + partidoB*deBaA + partidoC*deCaA\n",
      "print \"Votos obtenidos por el partido A en las internas =\", votosA*100, \"%\"\n",
      "\n",
      "votantesA = 400000\n",
      "\n",
      "probBenA = partidoB*deBaA / votosA\n",
      "print \"Probabilidad de que un votante de A sea del partido B\", probBenA*100, \"%, \", int(round(probBenA*votantesA)), \"personas\"\n",
      "\n",
      "probCenA = partidoC*deCaA / votosA\n",
      "print \"Probabilidad de que un votante de A sea del partido B\", probCenA*100, \"%, \", int(round(probCenA*votantesA)), \"personas\""
     ],
     "language": "python",
     "metadata": {},
     "outputs": [
      {
       "output_type": "stream",
       "stream": "stdout",
       "text": [
        "Votos obtenidos por el partido A en las internas = 42.5 %\n",
        "Probabilidad de que un votante de A sea del partido B 12.3529411765 %,  49412 personas\n",
        "Probabilidad de que un votante de A sea del partido B 2.94117647059 %,  11765 personas\n"
       ]
      }
     ],
     "prompt_number": 47
    },
    {
     "cell_type": "heading",
     "level": 2,
     "metadata": {},
     "source": [
      "Ejercicio 14 Examen, marzo de 2003"
     ]
    },
    {
     "cell_type": "code",
     "collapsed": false,
     "input": [
      "PD = 0.05 # probabilidad de que haya consumido\n",
      "Ppos_given_D = .9 # chance de un positivo si consumio\n",
      "Ppos_given_not_D = .02 # chance de un falso positivo\n",
      "\n",
      "# 1) P(D|A1) prob consumio dado primer test positivo\n",
      "PD_given_A1 = PD * Ppos_given_D / (PD*Ppos_given_D + (1-PD)*Ppos_given_not_D)\n",
      "print \"Probabilidad de que el jugador consumi\u00f3 cuando el primer test es positivo =\", PD_given_A1\n",
      "\n",
      "# 2) P de que el jugador sea sancionado. P(A1 and A2)\n",
      "# Creo que no son independientes porque ambos dependen de D.\n",
      "PB_given_D = Ppos_given_D**2\n",
      "PB_given_not_D = Ppos_given_not_D**2\n",
      "PB = PB_given_D*PD + PB_given_not_D*(1-PD)\n",
      "print \"Probabilidad de sanci\u00f3n =\", PB\n",
      "\n",
      "# Test de independencia\n",
      "PA = Ppos_given_D*PD + Ppos_given_not_D*(1-PD)\n",
      "if PA**2 == PB:\n",
      "    print \"Son independientes. P(A1)P(A2) == P(B) == P(A1 and A2)\"\n",
      "else:\n",
      "    print \"No son independientes. P(A1)P(A2) != P(B) == P(A1 and A2)\"\n",
      "    \n",
      "# 3) P sancionado consumi\u00f3. P(D|B)\n",
      "PD_given_B = PD * PB_given_D / PB\n",
      "print \"Probabilidad de que quien fue sancionado consumi\u00f3 =\", PD_given_B"
     ],
     "language": "python",
     "metadata": {},
     "outputs": [
      {
       "output_type": "stream",
       "stream": "stdout",
       "text": [
        "Probabilidad de que el jugador consumi\u00f3 cuando el primer test es positivo = 0.703125\n",
        "Probabilidad de sanci\u00f3n = 0.04088\n",
        "No son independientes. P(A1)P(A2) != P(B) == P(A1 and A2)\n",
        "Probabilidad de que quien fue sancionado consumi\u00f3 = 0.990704500978\n"
       ]
      }
     ],
     "prompt_number": 53
    },
    {
     "cell_type": "heading",
     "level": 2,
     "metadata": {},
     "source": [
      "Ejercicio 15 Examen, febrero 2004"
     ]
    },
    {
     "cell_type": "markdown",
     "metadata": {},
     "source": [
      "> De una caja que contiene 3 bolas rojas y 2 azules se extrae una bola al azar y se la coloca en una segunda caja que contiene 4 bolas azules y 2 rojas. __A continuaci\u00f3n__ se extrae una bola al azar de la segunda caja.\n",
      "\n",
      "1. Probabilidad de que se extraiga la misma bola que se puso: $frac{1}{7}$. No importan colores ni nada.\n",
      "2. Probabilidad de que la bola extraida de la segunda caja sea roja:\n",
      "    $P(R2) = P(R2|R1)P(R1) + P(R2|R1^C)P(R1^C) = \\frac{3}{7}\\frac{3}{5} + \\frac{2}{7}\\frac{2}{5} = \\frac{13}{35}$\n",
      "3. Probabilidad de que sea la misma bola si es roja:\n",
      "    $P(misma|R2) = \\frac {P(R1 \\cap misma)} {P(R2)} = \\frac{\\frac{3}{5}\\frac{1}{7}}{\\frac{13}{35}} = 0.230769230230769230230769230...$"
     ]
    },
    {
     "cell_type": "heading",
     "level": 2,
     "metadata": {},
     "source": [
      "Ejercicio 16"
     ]
    },
    {
     "cell_type": "markdown",
     "metadata": {},
     "source": [
      "     _____  \n",
      "    |A |CB|\n",
      "    |__|__|\n",
      "    |AC| B|\n",
      "    |__|__|\n",
      "\n",
      "1. Ya se ve del diagrama que $P(A) = P(B) = P(C) = \\frac{1}{2}$, y que $P(A \\cap B) = P(B \\cap C) = P(C \\cap A) = \\frac{1}{4}$, por lo que A, B y C son independientes 2 a 2.\n",
      "\n",
      "2. Para que sean independientes como conjunto ademas se debe cumplir que $P(A \\cap B \\cap C) = P(A)P(B)P(C)$, lo cual no es cierto porque es cero. No son independientes."
     ]
    },
    {
     "cell_type": "heading",
     "level": 2,
     "metadata": {},
     "source": [
      "Ejercicio 17"
     ]
    },
    {
     "cell_type": "markdown",
     "metadata": {},
     "source": [
      "    U = { CCC CCN CNC CNN NCC NCN NNC NNN }\n",
      "    A = { CCC CCN CNC     NCC             }\n",
      "    B = { CCC         CNN     NCN NNC     }\n",
      "    C = { CCC CCN CNC                 NNN }\n",
      "\n",
      "$P(A) = \\frac{1}{2}$, \n",
      "$P(B) = \\frac{1}{2}$, \n",
      "$P(C) = \\frac{1}{2}$.\n",
      "  \n",
      "\n",
      "1. $P(A \\cap B \\cap C) = \\frac{1}{8} = P(A)P(B)P(C)$.  \n",
      "    >  \n",
      "\n",
      "2. Independencia a pares:  \n",
      "    - $P(A \\cap B) = \\frac{1}{8} \\neq \\frac{1}{4} = P(A)P(B)$ A y B no independientes.  \n",
      "    - $P(B \\cap C) = \\frac{1}{8} \\neq \\frac{1}{4} = P(B)P(C)$ B y C no independientes.  \n",
      "    - $P(C \\cap A) = \\frac{3}{8} \\neq \\frac{1}{4} = P(C)P(A)$ C y A no independientes.  \n",
      "    >  \n",
      "\n",
      "3. No."
     ]
    },
    {
     "cell_type": "code",
     "collapsed": false,
     "input": [],
     "language": "python",
     "metadata": {},
     "outputs": []
    }
   ],
   "metadata": {}
  }
 ]
}