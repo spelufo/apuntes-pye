{
 "metadata": {
  "name": ""
 },
 "nbformat": 3,
 "nbformat_minor": 0,
 "worksheets": [
  {
   "cells": [
    {
     "cell_type": "code",
     "collapsed": false,
     "input": [
      "%pylab inline --no-import-all\n",
      "import pylab as plt\n",
      "# plt.xkcd(randomness=1.6)\n",
      "from pye import *"
     ],
     "language": "python",
     "metadata": {},
     "outputs": [
      {
       "output_type": "stream",
       "stream": "stdout",
       "text": [
        "Populating the interactive namespace from numpy and matplotlib\n"
       ]
      }
     ],
     "prompt_number": 1
    },
    {
     "cell_type": "markdown",
     "metadata": {},
     "source": [
      "# 4. [Distribuciones Discretas](files/practicos/p4.pdf)\n",
      "__[soluci\u00f3n](files/practicos/s4.pdf)__\n",
      "\n",
      "Clase 7 y 8\n",
      "Distribuci\u00f3n geom\u00e9trica, binomial negativa y Poisson. Distribuciones absolutamente continuas. Densidad de probabilidad. Distribuci\u00f3n normal, ejemplos, uso de tablas. \n"
     ]
    },
    {
     "cell_type": "heading",
     "level": 1,
     "metadata": {},
     "source": [
      "Ejercicio 1"
     ]
    },
    {
     "cell_type": "markdown",
     "metadata": {},
     "source": [
      "1. Para demostrar que una funci\u00f3n $p : A \\to \\mathbb{R}, p(k) = {n \\choose k}p^k(1-p)^k$ define una probabilidad en $A = \\{0,1,...,n\\}$ hay que probar que:\n",
      "    - $p(k) \\geqslant 0 \\ \\ \\forall k \\in A$\n",
      "        - ${n \\choose k} \\geqslant 0$\n",
      "        - $p \\geqslant 0 \\implies p^k \\geqslant 0$\n",
      "        - $1 \\geqslant p \\geqslant 0 \\implies (1-p) \\in [0,1] \\implies (1-p)^{n-k} \\geqslant 0$\n",
      "        - So, $p(k) \\geqslant 0 \\ \\ \\forall k \\in A$\n",
      "    - $\\sum\\limits_{k \\in A} p(k) = 1$\n",
      "        - Es cierto por el binomio de newton: $\\sum\\limits_{k \\in A} p(k) = \\sum\\limits_{k = 0}^{n} {n \\choose k}p^k(1-p)^k = ((1-p) + p)^n = 1$"
     ]
    },
    {
     "cell_type": "code",
     "collapsed": false,
     "input": [
      "# Devuelve la funcion de probabilidad p_X / p_X(k) = P(X = k) = P((X^(-1))(k)),\n",
      "# donde X es la variable aleatoria que asigna a un evento (n experimentos independientes sucesivos\n",
      "# con probabilidad de exito p cada uno) la cantidad k de experimentos exitosos.\n",
      "def Bin(n,p):\n",
      "    return lambda k: C(n,k) * p**k * (1-p)**(n-k)\n",
      "\n",
      "p_X = Bin(4, .75)\n",
      "\n",
      "print \"2) p(2) =\", p_X(2), \"= 27/128\"\n",
      "\n",
      "\n",
      "# P(al menos un sistema funcione) = 1 - P(ningun sistema funciona) = 1 - (1-p)**n\n",
      "# Hallar n tal que P(al menos un sistema funcione) >= 0.99 cuando:\n",
      "#      p = 0.9\n",
      "#      p = 0.8\n",
      "print \"3) P(no fallan todos) >= 0.9 entonces: n >=\", np.log(1-0.99)/np.log(1-0.9)\n",
      "print \"3) P(no fallan todos) >= 0.9 entonces: n >=\", np.log(1-0.99)/np.log(1-0.8)"
     ],
     "language": "python",
     "metadata": {},
     "outputs": [
      {
       "output_type": "stream",
       "stream": "stdout",
       "text": [
        "2) p(2) = 0.2109375 = 27/128\n",
        "3) P(no fallan todos) >= 0.9 entonces: n >= 2.0\n",
        "3) P(no fallan todos) >= 0.9 entonces: n >= 2.86135311615\n"
       ]
      }
     ],
     "prompt_number": 2
    },
    {
     "cell_type": "heading",
     "level": 2,
     "metadata": {},
     "source": [
      "Ejercicio 2"
     ]
    },
    {
     "cell_type": "markdown",
     "metadata": {},
     "source": [
      "- Funci\u00f3n de distribuci\u00f3n: $F_X(x) = P (X \\leqslant x) = P (\\{X \\leqslant x\\}) = P (X^{-1}[(-\\infty,x]]) = P(\\{\\omega \\in \\Omega : \\exists \\ y \\in (-\\infty,x] : X(\\omega) = y\\})$\n",
      "- Funci\u00f3n de probabilidad: $p_X(x) = P (X = x)$"
     ]
    },
    {
     "cell_type": "code",
     "collapsed": false,
     "input": [
      "# Graficar funci\u00f3n de distribuci\u00f3n y funci\u00f3n de probabilidad de X ~ Bin(6,1/4).\n",
      "\n",
      "n = 6\n",
      "Rec_X = [1,2,3,4,5,6]\n",
      "p_X = Bin(6,1./4.)\n",
      "Im_p_X = [p_X(k) for k in Rec_X]\n",
      "F_X = [sum(Im_p_X[:i]) for i in range(1,len(Rec_X)+1)]\n",
      "print Im_p_X\n",
      "print F_X\n",
      "\n",
      "ax = (plt.figure()).add_subplot(111)\n",
      "ax.bar(Rec_X, Im_p_X, alpha=0.5, align=\"center\")\n",
      "ax.step(Rec_X, F_X, \"r\", where=\"post\")\n",
      "ax.step([0,1], [0,F_X[0]], \"r\", where=\"post\")\n",
      "ax.step([6,7], [F_X[-1],1], \"r\", where=\"post\")"
     ],
     "language": "python",
     "metadata": {},
     "outputs": [
      {
       "output_type": "stream",
       "stream": "stdout",
       "text": [
        "[0.35595703125, 0.296630859375, 0.1318359375, 0.032958984375, 0.00439453125, 0.000244140625]\n",
        "[0.35595703125, 0.652587890625, 0.784423828125, 0.8173828125, 0.82177734375, 0.822021484375]\n"
       ]
      },
      {
       "metadata": {},
       "output_type": "pyout",
       "prompt_number": 4,
       "text": [
        "[<matplotlib.lines.Line2D at 0x31cf210>]"
       ]
      },
      {
       "metadata": {},
       "output_type": "display_data",
       "png": "[encoded data removed]",
       "text": [
        "<matplotlib.figure.Figure at 0x2f617d0>"
       ]
      }
     ],
     "prompt_number": 4
    },
    {
     "cell_type": "heading",
     "level": 2,
     "metadata": {},
     "source": [
      "Ejercicio 3"
     ]
    },
    {
     "cell_type": "markdown",
     "metadata": {},
     "source": [
      "![Parte a](files/imgs/P4E3a.JPG)  \n",
      "\n",
      "![Parte b](files/imgs/P4E3b.JPG)\n"
     ]
    },
    {
     "cell_type": "heading",
     "level": 2,
     "metadata": {},
     "source": [
      "Ejercicio 4"
     ]
    },
    {
     "cell_type": "code",
     "collapsed": false,
     "input": [],
     "language": "python",
     "metadata": {},
     "outputs": []
    }
   ],
   "metadata": {}
  }
 ]
}