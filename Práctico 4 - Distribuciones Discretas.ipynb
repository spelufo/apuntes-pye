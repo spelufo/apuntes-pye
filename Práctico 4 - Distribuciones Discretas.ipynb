{
 "metadata": {
  "name": ""
 },
 "nbformat": 3,
 "nbformat_minor": 0,
 "worksheets": [
  {
   "cells": [
    {
     "cell_type": "code",
     "collapsed": false,
     "input": [
      "%pylab inline --no-import-all\n",
      "import pylab as plt\n",
      "# plt.xkcd(randomness=1.6)\n",
      "from pye import *"
     ],
     "language": "python",
     "metadata": {},
     "outputs": [
      {
       "output_type": "stream",
       "stream": "stdout",
       "text": [
        " Populating the interactive namespace from numpy and matplotlib\n"
       ]
      },
      {
       "output_type": "stream",
       "stream": "stderr",
       "text": [
        "WARNING: pylab import has clobbered these variables: ['plt']\n",
        "`%pylab --no-import-all` prevents importing * from pylab and numpy\n"
       ]
      }
     ],
     "prompt_number": 4
    },
    {
     "cell_type": "markdown",
     "metadata": {},
     "source": [
      "# 4. [Distribuciones Discretas](files/practicos/p4.pdf)\n",
      "__[soluci\u00f3n](files/practicos/s4.pdf)__\n",
      "\n",
      "Clase 7 y 8\n",
      "Distribuci\u00f3n geom\u00e9trica, binomial negativa y Poisson. Distribuciones absolutamente continuas. Densidad de probabilidad. Distribuci\u00f3n normal, ejemplos, uso de tablas. \n"
     ]
    },
    {
     "cell_type": "heading",
     "level": 1,
     "metadata": {},
     "source": [
      "Ejercicio 1"
     ]
    },
    {
     "cell_type": "markdown",
     "metadata": {},
     "source": [
      "1. Para demostrar que una funci\u00f3n $p : A \\to \\mathbb{R}, p(k) = {n \\choose k}p^k(1-p)^k$ define una probabilidad en $A = \\{0,1,...,n\\}$ hay que probar que:\n",
      "    - $p(k) \\geqslant 0 \\ \\ \\forall k \\in A$\n",
      "        - ${n \\choose k} \\geqslant 0$\n",
      "        - $p \\geqslant 0 \\implies p^k \\geqslant 0$\n",
      "        - $1 \\geqslant p \\geqslant 0 \\implies (1-p) \\in [0,1] \\implies (1-p)^{n-k} \\geqslant 0$\n",
      "        - So, $p(k) \\geqslant 0 \\ \\ \\forall k \\in A$\n",
      "    - $\\sum\\limits_{k \\in A} p(k) = 1$\n",
      "        - Es cierto por el binomio de newton: $\\sum\\limits_{k \\in A} p(k) = \\sum\\limits_{k = 0}^{n} {n \\choose k}p^k(1-p)^k = ((1-p) + p)^n = 1$"
     ]
    },
    {
     "cell_type": "code",
     "collapsed": false,
     "input": [
      "# Devuelve la funcion de probabilidad p_X / p_X(k) = P(X = k) = P((X^(-1))(k)),\n",
      "# donde X es la variable aleatoria que asigna a un evento (n experimentos independientes sucesivos\n",
      "# con probabilidad de exito p cada uno) la cantidad k de experimentos exitosos.\n",
      "def Bin(n,p):\n",
      "    return lambda k: C(n,k) * p**k * (1-p)**(n-k)\n",
      "\n",
      "p_X = Bin(4, .75)\n",
      "\n",
      "print \"2) p(2) =\", p_X(2), \"= 27/128\"\n",
      "\n",
      "\n",
      "# P(al menos un sistema funcione) = 1 - P(ningun sistema funciona) = 1 - (1-p)**n\n",
      "# Hallar n tal que P(al menos un sistema funcione) >= 0.99 cuando:\n",
      "#      p = 0.9\n",
      "#      p = 0.8\n",
      "print \"3) P(no fallan todos) >= 0.9 entonces: n >=\", np.log(1-0.99)/np.log(1-0.9)\n",
      "print \"3) P(no fallan todos) >= 0.9 entonces: n >=\", np.log(1-0.99)/np.log(1-0.8)"
     ],
     "language": "python",
     "metadata": {},
     "outputs": [
      {
       "output_type": "stream",
       "stream": "stdout",
       "text": [
        "2) p(2) = 0.2109375 = 27/128\n",
        "3) P(no fallan todos) >= 0.9 entonces: n >= 2.0\n",
        "3) P(no fallan todos) >= 0.9 entonces: n >= 2.86135311615\n"
       ]
      }
     ],
     "prompt_number": 6
    },
    {
     "cell_type": "heading",
     "level": 2,
     "metadata": {},
     "source": [
      "Ejercicio 2"
     ]
    },
    {
     "cell_type": "markdown",
     "metadata": {},
     "source": [
      "- Funci\u00f3n de distribuci\u00f3n: $F_X(x) = P (X \\leqslant x) = P (\\{X \\leqslant x\\}) = P (X^{-1}[(-\\infty,x]]) = P(\\{\\omega \\in \\Omega : \\exists \\ y \\in (-\\infty,x] : X(\\omega) = y\\})$\n",
      "- Funci\u00f3n de probabilidad: $p_X(x) = P (X = x)$"
     ]
    },
    {
     "cell_type": "code",
     "collapsed": false,
     "input": [
      "# Graficar funci\u00f3n de distribuci\u00f3n y funci\u00f3n de probabilidad de X ~ Bin(6,1/4).\n",
      "\n",
      "n = 6\n",
      "Rec_X = [1,2,3,4,5,6]\n",
      "p_X = Bin(6,1./4.)\n",
      "Im_p_X = [p_X(k) for k in Rec_X]\n",
      "F_X = [sum(Im_p_X[:i]) for i in range(1,len(Rec_X)+1)]\n",
      "print Im_p_X\n",
      "print F_X\n",
      "\n",
      "ax = (plt.figure()).add_subplot(111)\n",
      "ax.bar(Rec_X, Im_p_X, alpha=0.5, align=\"center\")\n",
      "ax.step(Rec_X, F_X, \"r\", where=\"post\")\n",
      "ax.step([0,1], [0,F_X[0]], \"r\", where=\"post\")\n",
      "ax.step([6,7], [F_X[-1],1], \"r\", where=\"post\")"
     ],
     "language": "python",
     "metadata": {},
     "outputs": [
      {
       "output_type": "stream",
       "stream": "stdout",
       "text": [
        "[0.35595703125, 0.296630859375, 0.1318359375, 0.032958984375, 0.00439453125, 0.000244140625]\n",
        "[0.35595703125, 0.652587890625, 0.784423828125, 0.8173828125, 0.82177734375, 0.822021484375]\n"
       ]
      },
      {
       "metadata": {},
       "output_type": "pyout",
       "prompt_number": 7,
       "text": [
        "[<matplotlib.lines.Line2D at 0x28fab50>]"
       ]
      },
      {
       "metadata": {},
       "output_type": "display_data",
       "png": "[encoded data removed]",
       "text": [
        "<matplotlib.figure.Figure at 0x2837d10>"
       ]
      }
     ],
     "prompt_number": 7
    },
    {
     "cell_type": "heading",
     "level": 2,
     "metadata": {},
     "source": [
      "Ejercicio 3"
     ]
    },
    {
     "cell_type": "markdown",
     "metadata": {},
     "source": [
      "![Parte a](files/imgs/P4E3a.JPG)  \n",
      "\n",
      "![Parte b](files/imgs/P4E3b.JPG)\n"
     ]
    },
    {
     "cell_type": "heading",
     "level": 2,
     "metadata": {},
     "source": [
      "Ejercicio 4"
     ]
    },
    {
     "cell_type": "markdown",
     "metadata": {},
     "source": [
      "### Distribuci\u00f3n hipergeom\u00e9trica\n",
      "\n",
      "Tengo $N$ bolas, $D$ rojas. $X \\sim H(n,N,D)$ cuenta la cantidad de bolas rojas que saco sin reponer si saco un total de $n$ bolas.\n",
      "\n",
      "1. Se consideran los n\u00fameros naturales $N, D$ y $n$ tales que $N \\geqslant D$. Sea tambi\u00e9n $A = \\{ 0,1,...,n\\}$.\n",
      "    Para $r > 0$, se define ${r \\choose s }= 0$ si $s < 0$ o $s >r$.  \n",
      "    1. Probar $\\sum_{k=0}^n{{N-D \\choose n-k}{D \\choose k}}={N \\choose n}$  \n",
      "        ${N \\choose n}$ es el numero de maneras de elegir $n$ objetos de $N$. Dividamos los $N$ objetos en dos grupos de $N-D$ y $D$ objetos cada uno. Luego para elegir $n$ objetos de los dos grupos en total lo podemos hacer eligiendo $n - k$ del primero (${N-D \\choose n-k}$ maneras) y los $k$ restantes del segundo (${D \\choose k}$ maneras). Todas las posibilidades quedan comprendidas cuando se toman en cuenta todos los valores para $k$ desde el $0$ al $n$. Esto justifica la f\u00f3rmula.    \n",
      "    2. Probar que $p:A \\to \\mathbb{R}$ tal que $p(k) = {{N-D \\choose n-k}{D \\choose k}}/{N \\choose n}$ con $k \\in A$ define una probabilidad en $A$.\n",
      "        - $\\sum\\limits_{k \\in R_X} p_X(k) = \\sum\\limits_{k \\in \\{0,...,n\\}} {{N-D \\choose n-k}{D \\choose k}}/{N \\choose n} = 1$ por la parte 1.\n",
      "        - $p(k) \\geqslant 0$ es cierto porque todos los coeficientes binomiales son no negativos. \n"
     ]
    },
    {
     "cell_type": "code",
     "collapsed": false,
     "input": [
      "def Hiper(N, D, n):\n",
      "    return lambda k: 1.*C(N-D,n-k)*C(D,k)/C(N,n)\n",
      "\n",
      "Rec_X = [0,1,2,3]\n",
      "p_X = Hiper(40,3,5)\n",
      "p_rechazo = sum([p_X(k) for k in Rec_X[1:]])\n",
      "print \"2)\", p_rechazo\n",
      "\n",
      "p_X = Hiper(10,3,4)\n",
      "pk = [p_X(k) for k in Rec_X]\n",
      "print \"3)\"\n",
      "print \"  a)\", pk[0] # 4 funcionan, 0 no funcionan\n",
      "print \"  b)\", sum(pk[2:]) # al menos 2 no funcionan (2 no func + 3 no func)\n",
      "print \"  c)\", pk[3] # si solo 1 funciona, 3 no funcionan\n",
      "print \"  d)\", sum(pk) # que debe ser 1 porque se sacan 4 y hay solo 3 que no funcionan"
     ],
     "language": "python",
     "metadata": {},
     "outputs": [
      {
       "output_type": "stream",
       "stream": "stdout",
       "text": [
        "2) 0.337550607287\n",
        "3)\n",
        "  a) 0.166666666667\n",
        "  b) 0.333333333333\n",
        "  c) 0.0333333333333\n",
        "  d) 1.0\n"
       ]
      }
     ],
     "prompt_number": 8
    },
    {
     "cell_type": "heading",
     "level": 2,
     "metadata": {},
     "source": [
      "Ejercicio 5"
     ]
    },
    {
     "cell_type": "code",
     "collapsed": false,
     "input": [
      "def Pois(l):\n",
      "    return lambda k: np.exp(-l)*l**k/factorial(k)\n",
      "\n",
      "print \"1)\", Pois(4)(6)\n",
      "\n",
      "# Las soluciones dicen que el resultado es Pois(10)(16), pero esto seria la probabilidad\n",
      "# de que regrese exactamente un camion-tanque. La probabilidad de que regresen algunos (al menos uno)\n",
      "# viene dada por la suma de Pois(10)(i) con i=16 hasta i=+inf, que es igual a 1 - sum(Pois(10)([0..15]))\n",
      "# print \"2)\", sum([Pois(10)(i) for i in range(16,+inf)])\n",
      "print \"2)\", 1 - sum([Pois(10)(i) for i in range(16)])\n",
      "\n",
      "print \"3)\"\n",
      "p = Pois(0.1)\n",
      "print \"  a)\", p(0)\n",
      "print \"  b)\", 1 - p(0) - p(1)\n",
      "print \"  c)\", p(0)**2"
     ],
     "language": "python",
     "metadata": {},
     "outputs": [
      {
       "output_type": "stream",
       "stream": "stdout",
       "text": [
        "1) 0.104195634567\n",
        "2) 0.048740403304\n",
        "3)\n",
        "  a) 0.904837418036\n",
        "  b) 0.00467884016044\n",
        "  c) 0.818730753078\n"
       ]
      }
     ],
     "prompt_number": 9
    },
    {
     "cell_type": "heading",
     "level": 2,
     "metadata": {},
     "source": [
      "Ejercicio 6"
     ]
    },
    {
     "cell_type": "markdown",
     "metadata": {},
     "source": [
      "1. Probar que $p_X(k) = (1-p)^{k-1}p$ con $R_X=1,2,...$ es una funci\u00f3n de probabilidad.\n",
      "    - $\\sum\\limits_{k=1,2,...} p_X(k) = p \\sum\\limits_{i=0,1,...}(1-p)^i = p \\cdot \\frac{1}{1-(1-p)} = 1$\n",
      "    - $p_X(k) \\geqslant 0$ porque es suma de productos de cantidades no negativas.\n",
      "2. Te\u00f3rico"
     ]
    },
    {
     "cell_type": "code",
     "collapsed": false,
     "input": [
      "# cantidad de intentos hasta el r-esimo exito.\n",
      "def BinNeg(r,p):\n",
      "    return lambda k: C(k-1,r-1) * p**r * (1-p)**(k-r)\n",
      "\n",
      "def Geo(p):\n",
      "    return BinNeg(1,p)\n",
      "\n",
      "# Letra ambigua, dos interpretaciones:\n",
      "\n",
      "# exactamente 5 intentos\n",
      "print \"3)\", Geo(0.05)(5)\n",
      "\n",
      "# 5 o mas intentos\n",
      "print \"3)\", 1 - sum([Geo(0.05)(i) for i in range(5)])\n",
      "\n",
      "# plt.plot(range(1,100), [Geo(0.05)(i) for i in range(1,100)])"
     ],
     "language": "python",
     "metadata": {},
     "outputs": [
      {
       "output_type": "stream",
       "stream": "stdout",
       "text": [
        "3) 0.0407253125\n",
        "3) 0.81450625\n"
       ]
      }
     ],
     "prompt_number": 10
    },
    {
     "cell_type": "heading",
     "level": 2,
     "metadata": {},
     "source": [
      "Ejercicio 7"
     ]
    },
    {
     "cell_type": "markdown",
     "metadata": {},
     "source": [
      "1. La probabilidad de tener que repetir un experimento $k$ para obtener $r$ exitos es igual a la probabilidad de obtener exactamente $r-1$ exitos en $k-1$ experimentos (${k-1 \\choose r-1} p^{r-1} p^{k-r}$) por la probabilidad de obtener un \u00e9xito en el siguiente experimento: $p$.  \n",
      "    $p(k) = {k-1 \\choose r-1} p^r p^{k-r}$"
     ]
    },
    {
     "cell_type": "code",
     "collapsed": false,
     "input": [
      "p = BinNeg(4, 1800./100000.)\n",
      "print \"2)\", sum([p(i) for i in range(9)])\n",
      "\n",
      "p = BinNeg(2, 0.25)\n",
      "print \"3)\", p(5)"
     ],
     "language": "python",
     "metadata": {},
     "outputs": [
      {
       "output_type": "stream",
       "stream": "stdout",
       "text": [
        "2) 6.93448262121e-06\n",
        "3) 0.10546875\n"
       ]
      }
     ],
     "prompt_number": 11
    },
    {
     "cell_type": "markdown",
     "metadata": {},
     "source": [
      "4.\n",
      "\n",
      "Esta pregunta me gener\u00f3 bastantes dudas conceptuales:\n",
      "\n",
      "### Suma de variables aleatorias\n",
      "\n",
      "No encontr\u00e9 una definici\u00f3n rigurosa de la suma de variables aleatorias. La definici\u00f3n obvia es la de suma de funciones, en el sentido de que si $Z = X + Y \\implies Z(\\omega) = X(\\omega) + Y(\\omega) \\ \\forall \\omega \\in \\Omega$. Interpretandolo de esta manera, consideremos el ejemplo de la suma de $k$ variables independientes de Bernoulli con el mismo par\u00e1metro $p$:\n",
      "\n",
      "- Sea $(\\Omega,\\mathcal{A},P) = ([0,1],\\{\\emptyset,A = [0,p),[p,1],[0,1]\\}, P([a,b]) = b - a)$ el espacio de probabilidad de las variables aleatorias $X_i$ con distribuci\u00f3n de Bernoulli:\n",
      "    - $X_i(\\omega) = \\{ 0 \\ si \\ \\omega \\notin A, \\ 1 \\ si \\ \\omega \\in A\\}$\n",
      "    - $p_{X_i}(1) = P(X = 1) = p, \\ p_{X_i}(0) = P(X = 0) = 1 - p$\n",
      "    - No es necesario que el espacio de probabilidad sea el elegido para que la distribuci\u00f3n sea de Bernoulli, de hecho el punto de hacer todo esto expl\u00edcito es identificar todas los objetos a los que se refiere la teor\u00eda. Ver [estos](http://math.stackexchange.com/questions/18198/what-are-the-sample-spaces-when-talking-about-continuous-random-variables?lq=1) [posts](http://math.stackexchange.com/questions/536553/how-can-it-be-meaningful-to-add-a-discrete-random-variable-to-a-continuous-rando) sobre la importancia de los espacios de probabilidad.\n",
      "    - Otra posibilidad, tal vez menos complicada, es elegir $\\Omega = \\{\"cara\", \"numero\"\\}$ \u00f3 $\\{0,1\\}$, con $P(\\{1\\}) = p, \\ P(\\{0\\}) = 1 - p$.\n",
      "- Ahora, $X = X_1 + ... + X_k$ quedar\u00eda tal que $X({0}) = X_1({0}) + ... + X_k({0}) = 0$, y $X({1}) = X_1({1}) + ... + X_k({1}) = k$ cuando lo que queremos es no que est\u00e9 definida sobre el mismo $\\Omega$, sino sobre el producto cartesiano de los $\\Omega$ de los $X_i$. De esta forma $X((\\omega_1,...,\\omega_k)) = X_1(\\omega_1) + ... + X_k(\\omega_k) =$ cantidad de 1s en $(\\omega_1,...,\\omega_k)$, que da lugar a la distribuci\u00f3n Binomial.\n",
      "- Una manera m\u00e1s prolija de llegar al resultado (que me acabo de dar cuenta es la que usan las notas de Kalemkeri\u00e1n) para que la suma de variables aleatorias sea la suma normal de funciones, es redefinir las $X_i$ para extender su \\Omega al producto cartesiano de los $\\Omega=\\{0,1\\}$ originales: $X_i((\\omega_1,...,\\omega_k)) = \\omega_i$\n",
      "\n",
      "El punto es que el formalismo de espacios de probabilidad, por m\u00e1s que es necesario para definir las cosas en funci\u00f3n de la teor\u00eda de la medida, etc., no es donde est\u00e1 la escencia de los problemas de probabilidad. De hecho [las variables aleatorias sirven para abstraer este formalismo](http://math.stackexchange.com/questions/62967/samples-and-random-variables) y hay teoremas que dicen que [casi siempre se puede usar \\[0,1\\] como sample space](http://math.stackexchange.com/questions/18198/what-are-the-sample-spaces-when-talking-about-continuous-random-variables?lq=1)\n",
      "\n",
      "\n",
      "### Dos posibles distribuciones geom\u00e9tricas\n",
      "\n",
      "Esto m\u00e1s que una duda es un detalle. Hay [dos posibles distribuciones](http://en.wikipedia.org/wiki/Geometric_distribution) llamadas geom\u00e9tricas, seg\u00fan si se cuenta el \u00e9xito o solo los fracasos:\n",
      "\n",
      "1. The probability distribution of the number X of Bernoulli trials needed to get one success, supported on the set { 1, 2, 3, ...}. $p_X(k) = p (1-p)^{k-1}$\n",
      "2. The probability distribution of the number Y = X \u2212 1 of failures before the first success, supported on the set { 0, 1, 2, 3, ... }. $p_X(k) = p (1-p)^k$\n",
      "\n",
      "Supongamos que se cuenta el \u00e9xito, es decir, la primera definici\u00f3n para esta pregunta. La ventaja es que as\u00ed Geo(p) = BinNeg(1,p).\n",
      "\n",
      "### Respuesta\n",
      "\n",
      "![Soluci\u00f3n](files/imgs/P4E7d.JPG)"
     ]
    },
    {
     "cell_type": "heading",
     "level": 2,
     "metadata": {},
     "source": [
      "Ejercicio 8"
     ]
    },
    {
     "cell_type": "markdown",
     "metadata": {},
     "source": [
      "![sol1](files/imgs/P4E8b1.JPG)   \n",
      "\n",
      "![sol2](files/imgs/P4E8b2.JPG)"
     ]
    },
    {
     "cell_type": "heading",
     "level": 2,
     "metadata": {},
     "source": [
      "Ejercicio 9"
     ]
    },
    {
     "cell_type": "code",
     "collapsed": false,
     "input": [
      "quistes_poblacion = 0.02\n",
      "pulmones_quistes = 0.30\n",
      "higado_quistes = 0.60\n",
      "ambos_quistes = 0.10\n",
      "\n",
      "####### si portan en ambos portan en el higado.\n",
      "higado_quistes = higado_quistes + ambos_quistes\n",
      "\n",
      "# Al menos 2 de diez entre la poblacion con quistes.\n",
      "print \"1)\", 1 - Bin(10,quistes_poblacion)(1) - Bin(10,quistes_poblacion)(0)\n",
      "\n",
      "# Moda de Y: numero de portadores de quistes hepaticos de entre 10 portadores de quistes.\n",
      "# Por el ejercicio 3 la moda de una distribucion binomial Bin(10,0.6) es (n+1)p = (10 + 1)*0.6\n",
      "print \"2)\", (10 + 1)*0.6\n",
      "\n",
      "#\n",
      "print \"3\", BinNeg(10,quistes_poblacion)(11)*Bin(10,higado_quistes)(4)\n"
     ],
     "language": "python",
     "metadata": {},
     "outputs": [
      {
       "output_type": "stream",
       "stream": "stdout",
       "text": [
        "1) 0.0161776406864\n",
        "2) 6.6\n",
        "3 3.68862933197e-18\n"
       ]
      }
     ],
     "prompt_number": 13
    }
   ],
   "metadata": {}
  }
 ]
}