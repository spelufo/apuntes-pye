{
 "metadata": {
  "name": ""
 },
 "nbformat": 3,
 "nbformat_minor": 0,
 "worksheets": [
  {
   "cells": [
    {
     "cell_type": "code",
     "collapsed": false,
     "input": [
      "%pylab inline --no-import-all\n",
      "import pylab as plt\n",
      "# plt.xkcd(randomness=1.6)\n",
      "from pye import *\n",
      "%load_ext octavemagic"
     ],
     "language": "python",
     "metadata": {},
     "outputs": [
      {
       "output_type": "stream",
       "stream": "stdout",
       "text": [
        "Populating the interactive namespace from numpy and matplotlib\n"
       ]
      }
     ],
     "prompt_number": 2
    },
    {
     "cell_type": "markdown",
     "metadata": {},
     "source": [
      "\n",
      "## 5. [Distribuciones absolutamente continuas](files/practicos/p5.pdf)\n",
      "__[soluci\u00f3n](files/practicos/s5.pdf)__\n",
      "\n",
      "Clase 9 y 10\n",
      "Distribuciones de Cauchy, Uniforme, Exponencial. Caraterizaci\u00f3n de independencia y f\u00f3rmula de la convoluci\u00f3n para suma de VA\u00b4s independientes. Distribuciones conjuntas."
     ]
    },
    {
     "cell_type": "markdown",
     "metadata": {},
     "source": [
      "![Sols 1,2,3](files/imgs/P5a.JPG)  \n",
      "\n",
      "![sols](files/imgs/P5b.JPG)"
     ]
    },
    {
     "cell_type": "heading",
     "level": 2,
     "metadata": {},
     "source": [
      "Ejercicio 4"
     ]
    },
    {
     "cell_type": "code",
     "collapsed": false,
     "input": [
      "print \"1)\", 1./2\n",
      "print \"2)\", 1./4"
     ],
     "language": "python",
     "metadata": {},
     "outputs": [
      {
       "output_type": "stream",
       "stream": "stdout",
       "text": [
        "1) 0.5\n",
        "2) 0.25\n"
       ]
      }
     ],
     "prompt_number": 12
    },
    {
     "cell_type": "heading",
     "level": 2,
     "metadata": {},
     "source": [
      "Ejercicio 5"
     ]
    },
    {
     "cell_type": "code",
     "collapsed": false,
     "input": [
      "print \"3)\", 5./16"
     ],
     "language": "python",
     "metadata": {},
     "outputs": [
      {
       "output_type": "stream",
       "stream": "stdout",
       "text": [
        "3) 0.3125\n"
       ]
      }
     ],
     "prompt_number": 13
    },
    {
     "cell_type": "heading",
     "level": 2,
     "metadata": {},
     "source": [
      "Ejercicio 7"
     ]
    },
    {
     "cell_type": "code",
     "collapsed": false,
     "input": [
      "l = 0.01\n",
      "print \"1)\", np.log(0.9)/-l\n",
      "\n",
      "l = 1./8\n",
      "F8 = np.exp(-l*8)\n",
      "print \"2)\", sum([Bin(5,F8)(k) for k in range(2,6)]), \"==\", 1 - sum([Bin(5,F8)(k) for k in range(0,2)])"
     ],
     "language": "python",
     "metadata": {},
     "outputs": [
      {
       "output_type": "stream",
       "stream": "stdout",
       "text": [
        "1) 10.5360515658\n",
        "2) 0.605394260344 == 0.605394260344\n"
       ]
      }
     ],
     "prompt_number": 20
    },
    {
     "cell_type": "heading",
     "level": 2,
     "metadata": {},
     "source": [
      "Ejercicio 8"
     ]
    },
    {
     "cell_type": "markdown",
     "metadata": {},
     "source": [
      "La [tabla de distribuci\u00f3n normal N(0,1)](http://imerl.fing.edu.uy/Pye/material/tablas/tablanormal.htm) tiene el valor de F(X<=1.84) en la celda con coordenadas (1.8, 0.04)."
     ]
    },
    {
     "cell_type": "code",
     "collapsed": false,
     "input": [
      "from scipy.stats import norm\n",
      "\n",
      "from scipy.special import erf\n",
      "def Normal_CDF(mu,var):\n",
      "    return lambda x: 0.5*(1 + erf((float(x)-float(mu))/np.sqrt(2.0*float(var))))\n",
      "\n",
      "ncdf = Normal_CDF(0,1)\n",
      "\n",
      "# P(Z > 1.84) = 1 - P(Z <= 1.84) = 1 - F(1.84)\n",
      "print \"1)\", 1 - ncdf(1.84), \"(from erf) ~\", 1 - norm.cdf(1.84), \"(scipy.stats.norm.cdf) ~\", 1 - 0.9671, \"(tabla (1.8, 0.04))\"\n",
      "\n",
      "# P(-1.97 < Z < 0.86) = F(0.86) - F(-1.97)\n",
      "print \"2)\", ncdf(0.86) - ncdf(-1.97)\n",
      "\n",
      "# P(Z > k) = 0.3015  \\implies P(Z <= k) = 1 - 0.3015  \\implies  k = F^{-1}(1 - 0.3015)\n",
      "k = %octave norminv(1 - 0.3015);\n",
      "print \"3)\", k\n",
      "\n",
      "# P(k < Z < -0.18) = 0.4197  =>  F(-0.18) - F(k) = 0.4197  =>  k = F^-1(F(-0.18) - 0.4197)\n",
      "k = %octave norminv(normcdf(-0.18) - 0.4197);\n",
      "print \"4)\", k\n",
      "\n",
      "# P(X < k) = 0.45\n",
      "# Por un lado octave hace la inversa de la cdf de cualquier distribucion normal pasandole mu y var\n",
      "# Por otro lado si solo se dispone de la tabla de la normal, se puede normalizar la X tomando Z = (X - mu)/std\n",
      "# P(X < k) = P((X - 40)/6 < (k - 40)/6) = 0.45  =>  k = 6.F^-1(0.45) + 40\n",
      "k1 = %octave norminv(0.45, 40, 6);\n",
      "k2 = %octave 6*norminv(0.45)+40;\n",
      "print \"5)\", k1, \"==\", k2\n",
      "\n",
      "# P(X > k) = 0.14  =>  1 - F(k) = 0.14\n",
      "k = %octave norminv(1 - 0.14, 40, 6);\n",
      "print \"6)\", k"
     ],
     "language": "python",
     "metadata": {},
     "outputs": [
      {
       "output_type": "stream",
       "stream": "stdout",
       "text": [
        "1) 0.0328841186592 (from erf) ~ 0.0328841186592 (scipy.stats.norm.cdf) ~ 0.0329 (tabla (1.8, 0.04))\n",
        "2) 0.780686293468\n",
        "3)"
       ]
      },
      {
       "output_type": "stream",
       "stream": "stdout",
       "text": [
        " 0.520091216596\n",
        "4) -2.37073887599\n",
        "5)"
       ]
      },
      {
       "output_type": "stream",
       "stream": "stdout",
       "text": [
        " 39.2460319189 == 39.2460319189\n",
        "6) 46.4819160449\n"
       ]
      }
     ],
     "prompt_number": 4
    },
    {
     "cell_type": "heading",
     "level": 2,
     "metadata": {},
     "source": [
      "Ejercicio 9"
     ]
    },
    {
     "cell_type": "code",
     "collapsed": false,
     "input": [
      "%%octave\n",
      "\n",
      "diametro = 3;\n",
      "error = .01;\n",
      "sigma = .005;\n",
      "normcdf(diametro - error, diametro, sigma) + 1 - normcdf(diametro + error, diametro, sigma)\n",
      "\n",
      "% es lo mismo que 2*normcdf(diametro - error, diametro, sigma) porque es simetrico"
     ],
     "language": "python",
     "metadata": {},
     "outputs": [
      {
       "metadata": {},
       "output_type": "display_data",
       "text": [
        "ans =  0.045500"
       ]
      }
     ],
     "prompt_number": 30
    },
    {
     "cell_type": "heading",
     "level": 2,
     "metadata": {},
     "source": [
      "Ejercicio 10"
     ]
    },
    {
     "cell_type": "code",
     "collapsed": false,
     "input": [
      "%%octave\n",
      "\n",
      "mu = 40;\n",
      "sigma = 2;\n",
      "1 - normcdf(43, mu, sigma)\n",
      "1 - normcdf(42.5, mu, sigma) % Pienso que la respuesta de ButenZar esta mal."
     ],
     "language": "python",
     "metadata": {},
     "outputs": [
      {
       "metadata": {},
       "output_type": "display_data",
       "text": [
        "ans =  0.066807\n",
        "ans =  0.10565"
       ]
      }
     ],
     "prompt_number": 2
    },
    {
     "cell_type": "heading",
     "level": 2,
     "metadata": {},
     "source": [
      "Ejercicio 11"
     ]
    },
    {
     "cell_type": "markdown",
     "metadata": {},
     "source": [
      "1. Para que el limite de [la funcion de distribucion (cdf)][1] sea 1, k debe ser 1/9.\n",
      "\n",
      "[1]: http://www.wolframalpha.com/input/?i=integral+of+xe%5E(-x%2F3)+from+0+to+t"
     ]
    },
    {
     "cell_type": "code",
     "collapsed": false,
     "input": [
      "%%octave\n",
      "\n",
      "function res = f(X)\n",
      "    res = X.*exp(-X/3)/9;\n",
      "endfunction\n",
      "\n",
      "function res = F(X)\n",
      "    res = (9-3*exp(-X/3).*(X+3))/9;\n",
      "endfunction\n",
      "\n",
      "\n",
      "X = [0:0.1:20]\n",
      "\n",
      "hold on;\n",
      "plot(X,f(X));\n",
      "plot(X,F(X));\n",
      "\n",
      "k = 1/9\n",
      "prob_corte = 1 - F(27)\n",
      "corte_dos_dias = bincoeff(7,2)*prob_corte^2\n",
      "corte_un_dia_o_mas = 1 - (1-prob_corte)^7"
     ],
     "language": "python",
     "metadata": {},
     "outputs": [
      {
       "metadata": {},
       "output_type": "display_data",
       "text": [
        "k =  0.11111\n",
        "prob_corte =  0.0012341\n",
        "corte_dos_dias =  3.1983e-05\n",
        "corte_un_dia_o_mas =  0.0086068"
       ]
      },
      {
       "metadata": {},
       "output_type": "display_data",
       "png": "[encoded data removed]"
      }
     ],
     "prompt_number": 9
    },
    {
     "cell_type": "heading",
     "level": 2,
     "metadata": {},
     "source": [
      "Ejercicio 12"
     ]
    },
    {
     "cell_type": "markdown",
     "metadata": {},
     "source": [
      "1. $1 - F(x) = F(-x)$  \n",
      "    $1 = \\int\\limits_{-\\infty}^x f + \\int\\limits_{-\\infty}^{-x} f = \\int\\limits_{-\\infty}^x f - \\int\\limits_{\\infty}^{x} f = \\int\\limits_{-\\infty}^x f + \\int\\limits_{x}^{\\infty} f = \\int\\limits_{-\\infty}^{\\infty} f$\n",
      "2. [CDF](http://en.wikipedia.org/wiki/Laplace_distribution#Cumulative_distribution_function)"
     ]
    },
    {
     "cell_type": "code",
     "collapsed": false,
     "input": [
      "def F(x):\n",
      "    if x < 0:\n",
      "        return 0.5*np.exp(x)\n",
      "    else:\n",
      "        return 1 - 0.5*np.exp(-x)\n",
      "\n",
      "p = 1 - (F(2.1) - F(-2.1))\n",
      "p = 2*F(-2.1)\n",
      "print \"2)\", p\n",
      "print \"3)\", BinNeg(2,p)(5)"
     ],
     "language": "python",
     "metadata": {},
     "outputs": [
      {
       "output_type": "stream",
       "stream": "stdout",
       "text": [
        "2) 0.122456428253\n",
        "3) 0.0405349120503\n"
       ]
      }
     ],
     "prompt_number": 20
    },
    {
     "cell_type": "heading",
     "level": 2,
     "metadata": {},
     "source": [
      "Ejercicio 13"
     ]
    },
    {
     "cell_type": "markdown",
     "metadata": {},
     "source": [
      "1. $F_X(x) = P(X \\leqslant x) = P(F^{-1}(U) \\leqslant x) = P(U \\leqslant F(x)) = F_U(F(x)) = F(x)$\n",
      "2. This is called the [inverse transform method](http://en.wikipedia.org/wiki/Inverse_transform_method)"
     ]
    },
    {
     "cell_type": "code",
     "collapsed": false,
     "input": [
      "from random import random\n",
      "\n",
      "def randnorm(N):\n",
      "    %octave_push N\n",
      "    x = %octave norminv(rand(1,N));\n",
      "    return x[0]\n",
      "\n",
      "N = 10000\n",
      "fig = plt.figure()\n",
      "\n",
      "# Comparacion:\n",
      "\n",
      "# scipy.stats.norm.rvs\n",
      "np_ax = fig.add_subplot(121)\n",
      "np_ax.scatter([norm.rvs() for i in range(N)], [norm.rvs() for i in range(N)], marker=\"+\")\n",
      "\n",
      "# inverse transform method\n",
      "my_ax = fig.add_subplot(122)\n",
      "my_ax.scatter(randnorm(N), randnorm(N), marker=\"+\")"
     ],
     "language": "python",
     "metadata": {},
     "outputs": [
      {
       "metadata": {},
       "output_type": "pyout",
       "prompt_number": 30,
       "text": [
        "<matplotlib.collections.PathCollection at 0x361f690>"
       ]
      },
      {
       "metadata": {},
       "output_type": "display_data",
       "png": "[encoded data removed]",
       "text": [
        "<matplotlib.figure.Figure at 0x3289450>"
       ]
      }
     ],
     "prompt_number": 30
    },
    {
     "cell_type": "markdown",
     "metadata": {},
     "source": [
      "  3."
     ]
    },
    {
     "cell_type": "code",
     "collapsed": false,
     "input": [
      "X = randnorm(100)\n",
      "print 1.*len(filter(lambda x: x < 0.45,X))/len(X)\n",
      "\n",
      "X = randnorm(1000)\n",
      "print 1.*len(filter(lambda x: x < 0.45,X))/len(X)\n",
      "\n",
      "%octave normcdf(0.45)"
     ],
     "language": "python",
     "metadata": {},
     "outputs": [
      {
       "output_type": "stream",
       "stream": "stdout",
       "text": [
        "0.6727\n",
        "0.6751"
       ]
      },
      {
       "output_type": "stream",
       "stream": "stdout",
       "text": [
        "\n"
       ]
      },
      {
       "metadata": {},
       "output_type": "display_data",
       "text": [
        "ans =  0.67364"
       ]
      },
      {
       "metadata": {},
       "output_type": "pyout",
       "prompt_number": 32,
       "text": [
        "0.67364477971207992"
       ]
      }
     ],
     "prompt_number": 32
    }
   ],
   "metadata": {}
  }
 ]
}