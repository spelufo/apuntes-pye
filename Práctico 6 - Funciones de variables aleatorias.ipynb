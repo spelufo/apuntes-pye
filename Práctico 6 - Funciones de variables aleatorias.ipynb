{
 "metadata": {
  "name": ""
 },
 "nbformat": 3,
 "nbformat_minor": 0,
 "worksheets": [
  {
   "cells": [
    {
     "cell_type": "code",
     "collapsed": false,
     "input": [
      "%pylab inline --no-import-all\n",
      "import pylab as plt\n",
      "# plt.xkcd(randomness=1.6)\n",
      "from pye import *\n",
      "%load_ext octavemagic"
     ],
     "language": "python",
     "metadata": {},
     "outputs": [
      {
       "output_type": "stream",
       "stream": "stdout",
       "text": [
        "Populating the interactive namespace from numpy and matplotlib\n"
       ]
      }
     ],
     "prompt_number": 1
    },
    {
     "cell_type": "markdown",
     "metadata": {},
     "source": [
      "## 6. [Funciones de variables aleatorias](files/practicos/p6.pdf)\n",
      "\n",
      "Clase 11 y 12\n",
      "Valor esperado. Definici\u00f3n. Propiedades. Ejemplos. Ley de Grandes Numeros.\n",
      "\n",
      "_Primer Parcial_ \n",
      "\n",
      "Varianza, covarianza. Propiedades. Coeficiente de Correlaci\u00f3n. Ejemplos."
     ]
    },
    {
     "cell_type": "heading",
     "level": 2,
     "metadata": {},
     "source": [
      "Ejercicio 1"
     ]
    },
    {
     "cell_type": "code",
     "collapsed": false,
     "input": [
      "%%latex\n",
      "\\[\\lim_{Y \\to +\\infty} F_{X,Y}(x,y) = F_X(x) \\iff \\lim_{Y \\to +\\infty} P(X \\leqslant x, Y \\leqslant y) = P(X \\leqslant x)\\]\n",
      "\\[\\iff \\lim_{Y \\to +\\infty} P(X \\leqslant x) + P(Y \\leqslant y) - P(X \\leqslant x \\vee Y \\leqslant y) = P(X \\leqslant x)\\]\n",
      "\\[porque \\lim_{Y \\to +\\infty} P(Y \\leqslant y) = 1, \\ \\lim_{Y \\to +\\infty} P(X \\leqslant x \\vee Y \\leqslant y) = 1\\]"
     ],
     "language": "python",
     "metadata": {},
     "outputs": [
      {
       "latex": [
        "\\[\\lim_{Y \\to +\\infty} F_{X,Y}(x,y) = F_X(x) \\iff \\lim_{Y \\to +\\infty} P(X \\leqslant x, Y \\leqslant y) = P(X \\leqslant x)\\]\n",
        "\\[\\iff \\lim_{Y \\to +\\infty} P(X \\leqslant x) + P(Y \\leqslant y) - P(X \\leqslant x \\vee Y \\leqslant y) = P(X \\leqslant x)\\]\n",
        "\\[porque \\lim_{Y \\to +\\infty} P(Y \\leqslant y) = 1, \\ \\lim_{Y \\to +\\infty} P(X \\leqslant x \\vee Y \\leqslant y) = 1\\]"
       ],
       "metadata": {},
       "output_type": "display_data",
       "text": [
        "<IPython.core.display.Latex at 0x1e519d0>"
       ]
      }
     ],
     "prompt_number": 23
    },
    {
     "cell_type": "heading",
     "level": 2,
     "metadata": {},
     "source": [
      "Ejercicio 2"
     ]
    },
    {
     "cell_type": "markdown",
     "metadata": {},
     "source": [
      "Hay que llevar todo a P's, ya que por la definici\u00f3n de [Kalemkerian](files/materiales/notasdeprobabilidad.pdf) (secci\u00f3n 4.4. Independencia de variables aleatorias) dos V.A.s son independientes cuando eventos cualquiera de cada una de las variables son independientes.\n",
      "\n",
      "- $F_{X,Y}(x,y) = P(X \\leqslant x, Y \\leqslant y) = P(X \\leqslant x)P(Y \\leqslant y) = F_X(x)F_Y(y).$\n",
      "- El rec\u00edproco es cierto. De hecho, a veces esta relaci\u00f3n se toma como la definici\u00f3n de independencia entre variables aleatorias.\n",
      "- Es [cierto](http://en.wikipedia.org/wiki/Independence_of_random_variables#Two_random_variables) el an\u00e1logo para densidades:\n",
      "    Informalmente para $\\delta$ muy chico: $\\delta^2 \\cdot f_{X,Y}(x,y) = P(X \\in [x,x+\\delta], Y \\in [y, y+\\delta]) = P(X \\in [x,x+\\delta])P(Y \\in [y, y+\\delta]) = \\delta \\cdot f_X(x) \\ \\cdot \\ \\delta \\cdot f_Y(y)$"
     ]
    },
    {
     "cell_type": "heading",
     "level": 2,
     "metadata": {},
     "source": [
      "Ejercicio 3"
     ]
    },
    {
     "cell_type": "markdown",
     "metadata": {},
     "source": [
      "1. $R_X = \\{0,1,2\\}, R_Y = \\{0,1,2,3\\}$\n",
      "2. Construir $F_{X,Y}$:\n",
      "    - $R_{X,Y} = R_X \\times R_Y.$"
     ]
    },
    {
     "cell_type": "code",
     "collapsed": false,
     "input": [
      "# Habiendo abstra\u00eddo las distribuciones a funciones, es f\u00e1cil olvidarse como se calculan.\n",
      "# En este caso la distribuci\u00f3n es la HiperGeometrica, en la que X es el numero de elementos de un tipo\n",
      "# sacados de una bolsa con N elementos en total, D de los cuales son del tipo deseado, si se sacan n elementos\n",
      "# en total. p_X(k) = C(N-D,n-k)*C(D,k)/C(N,n).\n",
      "# Hiper?? # Siempre se puede hacer func?? para ver el c\u00f3digo de func.\n",
      "\n",
      "# 1.\n",
      "R_X = range(3)\n",
      "R_Y = range(4)\n",
      "R_XY = [(x,y) for x in R_X for y in R_Y]\n",
      "\n",
      "p_X = Hiper(9,2,5)\n",
      "p_Y = Hiper(9,3,5)\n",
      "\n",
      "p_XY = lambda x,y: 1.*C(2,x)*C(3,y)*C(4,5-x-y)/C(9,5)\n",
      "\n",
      "P = np.array([[p_XY(x,y) for x in R_X] for y in R_Y])\n",
      "print \"P:\"\n",
      "print P\n",
      "\n",
      "# 2.\n",
      "F_XY = lambda x,y: sum([p_XY(s,t) for s,t in R_XY if s <= x and t <= y])\n",
      "F = np.array([[F_XY(x,y) for x in R_X] for y in R_Y])\n",
      "print \"\\nF:\"\n",
      "print F"
     ],
     "language": "python",
     "metadata": {},
     "outputs": [
      {
       "output_type": "stream",
       "stream": "stdout",
       "text": [
        "P:\n",
        "[[ 0.          0.01587302  0.03174603]\n",
        " [ 0.02380952  0.19047619  0.14285714]\n",
        " [ 0.0952381   0.28571429  0.0952381 ]\n",
        " [ 0.04761905  0.06349206  0.00793651]]\n",
        "\n",
        "F:\n",
        "[[ 0.          0.01587302  0.04761905]\n",
        " [ 0.02380952  0.23015873  0.4047619 ]\n",
        " [ 0.11904762  0.61111111  0.88095238]\n",
        " [ 0.16666667  0.72222222  1.        ]]\n"
       ]
      }
     ],
     "prompt_number": 74
    },
    {
     "cell_type": "code",
     "collapsed": false,
     "input": [
      "from mpl_toolkits.mplot3d import Axes3D\n",
      "\n",
      "fig = plt.figure()\n",
      "ax = fig.gca(projection='3d')\n",
      "for i in range(len(R_X)):\n",
      "    for j in range(len(R_Y)):\n",
      "        x = R_X[i]\n",
      "        y = R_Y[j]\n",
      "        v = F_XY(x,y)\n",
      "        ax.plot_surface([[x,x+1],[x,x+1]],[[y,y],[y+1,y+1]], v*np.ones([2,2]), color='b')\n",
      "        vpx = F_XY(x-1,y)\n",
      "        vpy = F_XY(x,y-1)\n",
      "        ax.plot_surface(x*np.ones([2,2]),[[y,y+1],[y,y+1]], [[vpx,vpx],[v,v]], color='r', alpha=0.5)\n",
      "        ax.plot_surface([[x,x+1],[x,x+1]],y*np.ones([2,2]), [[vpy,vpy],[v,v]], color='r', alpha=0.5)\n",
      "\n",
      "plt.show()"
     ],
     "language": "python",
     "metadata": {},
     "outputs": [
      {
       "metadata": {},
       "output_type": "display_data",
       "png": "[encoded data removed]",
       "text": [
        "<matplotlib.figure.Figure at 0x3d66090>"
       ]
      }
     ],
     "prompt_number": 80
    },
    {
     "cell_type": "code",
     "collapsed": false,
     "input": [
      "# 3. Marginales\n",
      "F_X = lambda x: F_XY(x,3)\n",
      "F_X_verif = lambda x: sum([p_X(s) for s in R_X if s <= x]) # calculada independientemente de Hiper(9,2,5)\n",
      "F_Y = lambda y: F_XY(2,y)\n",
      "F_Y_verif = lambda y: sum([p_Y(t) for t in R_Y if t <= y]) # calculada independientemente de Hiper(9,3,5)\n",
      "\n",
      "fig = plt.figure()\n",
      "ax1 = fig.add_subplot(121)\n",
      "ax1.set_xlim(-1,3)\n",
      "ax1.set_ylim(-0.1,1.1)\n",
      "R_Xa = [-1]+R_X+[3]\n",
      "ax1.step(R_Xa,[F_X_verif(x) for x in R_Xa], 'r', where='post', lw=3, alpha=0.5)\n",
      "ax1.step(R_Xa,[F_X(x) for x in R_Xa], 'b', where='post')\n",
      "\n",
      "ax2 = fig.add_subplot(122)\n",
      "ax2.set_xlim(-1,4)\n",
      "ax2.set_ylim(-0.1,1.1)\n",
      "R_Ya = [-1]+R_Y+[4]\n",
      "ax2.step(R_Ya,[F_Y_verif(y) for y in R_Ya], 'r', where='post', lw=3, alpha=0.5)\n",
      "ax2.step(R_Ya,[F_Y(y) for y in R_Ya], 'b', where='post')\n",
      "\n",
      "plt.show()"
     ],
     "language": "python",
     "metadata": {},
     "outputs": [
      {
       "metadata": {},
       "output_type": "display_data",
       "png": "[encoded data removed]",
       "text": [
        "<matplotlib.figure.Figure at 0x37e39d0>"
       ]
      }
     ],
     "prompt_number": 91
    },
    {
     "cell_type": "code",
     "collapsed": false,
     "input": [
      "# 4. P(X=Y)\n",
      "P_X_equals_Y = [p_XY(x,y) for x in R_X for y in R_Y if x == y]\n",
      "print \"5) P(X=Y) =\", sum(P_X_equals_Y)"
     ],
     "language": "python",
     "metadata": {},
     "outputs": [
      {
       "output_type": "stream",
       "stream": "stdout",
       "text": [
        "5) P(X=Y) = 0.285714285714\n"
       ]
      }
     ],
     "prompt_number": 93
    },
    {
     "cell_type": "code",
     "collapsed": false,
     "input": [
      "# 5. Son independientes? No, la cantidad que se saque de unos influye las chances de sacar determinada cantidad de\n",
      "# los otros. El ejemplo mas claro esta en la primera linea P(x=0,y=0) = 0 porque no se puede no sacar ningun abogado\n",
      "# y ningun contador porque hay solo 4 personas que no son ninguna de las dos cosas. Pero se puede no sacar ningun\n",
      "# contador P(X=0) != 0. Y se puede no sacar ningun abogado P(Y=0) != 0. Entonces P(X=0)P(Y=0) != 0 = P(X=0,Y=0).\n",
      "\n",
      "print \"F_X * F_Y   -   F_XY\"\n",
      "for x in R_X:\n",
      "    for y in R_Y:\n",
      "        print int(F_X(x)*F_Y(y)*10000)/100., '      -     ', int(F_XY(x,y)*10000)/100."
     ],
     "language": "python",
     "metadata": {},
     "outputs": [
      {
       "output_type": "stream",
       "stream": "stdout",
       "text": [
        "F_X * F_Y   -   F_XY\n",
        "0.79       -      0.0\n",
        "6.74       -      2.38\n",
        "14.68       -      11.9\n",
        "16.66       -      16.66\n",
        "3.43       -      1.58\n",
        "29.23       -      23.01\n",
        "63.62       -      61.11\n",
        "72.22       -      72.22\n",
        "4.76       -      4.76\n",
        "40.47       -      40.47\n",
        "88.09       -      88.09\n",
        "99.99       -      99.99\n"
       ]
      }
     ],
     "prompt_number": 101
    },
    {
     "cell_type": "heading",
     "level": 2,
     "metadata": {},
     "source": [
      "Ejercicio 4"
     ]
    },
    {
     "cell_type": "code",
     "collapsed": false,
     "input": [
      "# 1.\n",
      "a = 1 - sum(sum(np.array([[.2,.25,.15],\n",
      "                          [.1,  0,.25]])))\n",
      "\n",
      "print \"1)\", a\n",
      "\n",
      "X = [-1,1]\n",
      "Y = [2,4,6]\n",
      "F = np.array([[.2,.25,.15],\n",
      "              [.1,  a,.25]])\n",
      "\n",
      "# 2. P(X<1,Y=4) = P(X=-1,Y=4) = 0.25\n",
      "print \"2)\", 0.25"
     ],
     "language": "python",
     "metadata": {},
     "outputs": [
      {
       "output_type": "stream",
       "stream": "stdout",
       "text": [
        "1) 0.05\n",
        "2) 0.25\n"
       ]
      }
     ],
     "prompt_number": 110
    },
    {
     "cell_type": "markdown",
     "metadata": {},
     "source": [
      "![3](files/imgs/P5E4a.JPG)"
     ]
    },
    {
     "cell_type": "heading",
     "level": 2,
     "metadata": {},
     "source": [
      "Ejercicio 5"
     ]
    },
    {
     "cell_type": "code",
     "collapsed": false,
     "input": [
      "from sympy import *\n",
      "\n",
      "a = Symbol('a')\n",
      "b = Symbol('b')\n",
      "c = Symbol('c')\n",
      "\n",
      "p_XY = np.array([[.02, .08, c ],\n",
      "                 [  a, .08, .1],\n",
      "                 [.06,   b, .3]])\n",
      "F_XY = np.array([[sum(sum(p_XY[:j+1,:i+1])) for i in range(3)] for j in range(3)])\n",
      "\n",
      "a,b,c = solve([F_XY[2,2] - 1,\n",
      "       F_XY[0,2]*F_XY[2,0] - F_XY[0,0],\n",
      "       F_XY[0,2]*F_XY[2,1] - F_XY[0,1],\n",
      "       F_XY[1,2]*F_XY[2,0] - F_XY[1,0],\n",
      "       F_XY[1,2]*F_XY[2,1] - F_XY[1,1]], [a,b,c])[0]\n",
      "\n",
      "p_XY = np.array([[.02, .08, c ],\n",
      "                 [  a, .08, .1],\n",
      "                 [.06,   b, .3]])\n",
      "F_XY = np.array([[int(sum(sum(p_XY[:j+1,:i+1]*100))) for i in range(3)] for j in range(3)])\n",
      "print \"a =\", int(a*100), \"% , b =\", int(b*100), \"% , c = \", int(c*100), \"%\"\n",
      "print \"\"\n",
      "print \"P:\"\n",
      "print p_XY\n",
      "print \"\"\n",
      "print \"F(%):\"\n",
      "print F_XY\n",
      "\n",
      "# Las marginales son las ultimas columna y fila de F.\n",
      "# Nunca me queda claro si con marginales se refieren solo a esas, o tambien a las de "
     ],
     "language": "python",
     "metadata": {},
     "outputs": [
      {
       "output_type": "stream",
       "stream": "stdout",
       "text": [
        "a = 2 % , b = 24 % , c =  10 %\n",
        "\n",
        "P:\n",
        "[[0.02 0.08 0.100000000000000]\n",
        " [0.0200000000000000 0.08 0.1]\n",
        " [0.06 0.240000000000000 0.3]]\n",
        "\n",
        "F(%):\n",
        "[[  2  10  20]\n",
        " [  4  20  40]\n",
        " [ 10  50 100]]\n"
       ]
      }
     ],
     "prompt_number": 169
    },
    {
     "cell_type": "heading",
     "level": 2,
     "metadata": {},
     "source": [
      "Ejercicio 6"
     ]
    },
    {
     "cell_type": "markdown",
     "metadata": {},
     "source": [
      "M\u00e1s de lo mismo"
     ]
    },
    {
     "cell_type": "heading",
     "level": 2,
     "metadata": {},
     "source": [
      "Ejercicio 7"
     ]
    },
    {
     "cell_type": "markdown",
     "metadata": {},
     "source": [
      "1. $F_X(x) = \\lim\\limits_{Y \\to \\infty} F_{X,Y}(x,y) = \\{ 0 \\ si \\ x \\in (-\\infty, 0], \\ x \\ si \\ x \\in [0,1), \\ 1 \\ si \\ x \\in [1,\\infty] \\}$  \n",
      "    $F_Y$ es sim\u00e9trica.\n",
      "2. Dan lo mismo que 1.\n",
      "3. No, 1 y 2 tienen las mismas marginales y son distintas distribuciones. En el caso en que hay independencia, porque en ese caso necesariamente $F_{X,Y}(x,y) = F_X(x) \\cdot F_Y(y)$."
     ]
    },
    {
     "cell_type": "heading",
     "level": 2,
     "metadata": {},
     "source": [
      "Ejercicio 8"
     ]
    },
    {
     "cell_type": "markdown",
     "metadata": {},
     "source": [
      "![9](files/imgs/P6E8.jpg)"
     ]
    },
    {
     "cell_type": "heading",
     "level": 2,
     "metadata": {},
     "source": [
      "Ejercicio 9"
     ]
    },
    {
     "cell_type": "markdown",
     "metadata": {},
     "source": [
      "![9](files/imgs/P6E9.JPG)\n",
      "[Verificacion](http://www.wolframalpha.com/input/?i=double+integral+of+xy+from+x%3D0+to+4%2C+y%3D1+to+5)"
     ]
    },
    {
     "cell_type": "code",
     "collapsed": false,
     "input": [
      "float(8*9+256./3-64)/96."
     ],
     "language": "python",
     "metadata": {},
     "outputs": [
      {
       "metadata": {},
       "output_type": "pyout",
       "prompt_number": 1,
       "text": [
        "0.972222222222222"
       ]
      }
     ],
     "prompt_number": 1
    },
    {
     "cell_type": "heading",
     "level": 2,
     "metadata": {},
     "source": [
      "Ejercicio 10"
     ]
    },
    {
     "cell_type": "markdown",
     "metadata": {},
     "source": [
      "Hallar la distribuci\u00f3n $F_Y$ y la densidad $f_Y$ de la variable aleatoria:\n",
      "\n",
      "1. $Y = log(X)$ si $f_X(x) = x^{-2} \\ si \\ x \\in (1,+\\infty)$. Dos maneras de hacerlo:\n",
      "    - Para $x \\in (1,+\\infty), log(x) = y \\in (0,+\\infty)$  \n",
      "        $F_X(x) = \\int_{-\\infty}^x f_X(s) \\cdot ds = \\int_1^x s^{-2} \\cdot ds = -s^{-1} \\bigg]_1^x= 1 - x^{-1}$  \n",
      "        $F_Y(y) = P(Y \\leqslant y) = P(log(X) \\leqslant y) = P(X \\leqslant e^y) = F_X(e^y) = 1 - e^{-y}$  \n",
      "        La tercer desigualdad sirve porque [la funci\u00f3n exponencial es mon\u00f3tona creciente][1].  \n",
      "        Luego $f_Y(y) = F_Y'(y) = e^{-y}$\n",
      "        > \n",
      "    - Intuitivamente: $f_X(x) \\cdot dx = P(X \\in [x,x+dx)) = P(Y \\in [y,y+dy)) = f_Y(y) \\cdot dy \\implies$  \n",
      "        $f_Y(y) = \\frac{f_X(x)}{\\frac{dy}{dx}} = \\frac{f_X(g^{-1}(y))}{g'(g^{-1}(y))} = f_X(e^y) \\cdot e^y = e^{-y}$\n",
      "        Luego $F_Y(y) = \\int_0^y e^{-t} dt = 1 - e^{-y}$\n",
      "\n",
      "2. $Y = X^2, f_X(x) = 2xe^{-x^2} \\ si \\ x \\in (0,+\\infty), \\ \\implies \\ f_Y(y) = \\frac{f_X(g^{-1}(y))}{g'(g^{-1}(y))} = e^{-y}$  \n",
      "    Luego $F_Y(y) = \\int_0^y e^{-t} dt = 1 - e^{-y}$  \n",
      "    > \n",
      "3. $Y = 3X + 1$ donde $X ~ U[0,1]$\n",
      "    - En este caso la f\u00f3rmula para $f_Y$ falla, porque la funci\u00f3n no es absolutamente continua.  \n",
      "    - Como $x = P(X \\in [0,x < 1]) = P(Y \\in [1,\\frac{y-1}{3}]) = \\frac{y-1}{3}$ se ve que $Y~[1,3]$\n",
      "    \n",
      "_Fuera de los intevalos especificados las funciones son 0 (o 1 para las cdf) seg\u00fan corresponda._\n",
      "\n",
      "[1]: http://en.wikipedia.org/wiki/Inequality_(mathematics)#Applying_a_function_to_both_sides"
     ]
    },
    {
     "cell_type": "heading",
     "level": 2,
     "metadata": {},
     "source": [
      "Ejercicio 11"
     ]
    },
    {
     "cell_type": "markdown",
     "metadata": {},
     "source": [
      "Lo mejor es hacer el dibujo para pensarlo, como en el ejercicio siguiente.\n",
      "\n",
      "1. $F_{X^*_n}(x^*) = P(max\\{X_1...X_n\\} \\leqslant x^*) = \\prod_1^n P(X_i \\leqslant x^*) = F(x^*)^n$\n",
      "2. $F_{X^*_1}(x^*) = P(min\\{X_1...X_n\\} \\leqslant x^*) = 1 - \\prod_1^n P(X_i \\geqslant x^*) = 1 - (1 - F(x^*))^n$\n",
      "    [Verificaci\u00f3n](http://stats.stackexchange.com/questions/220/how-is-the-minimum-of-a-set-of-random-variables-distributed)"
     ]
    },
    {
     "cell_type": "heading",
     "level": 2,
     "metadata": {},
     "source": [
      "Ejercicio 12"
     ]
    },
    {
     "cell_type": "markdown",
     "metadata": {},
     "source": [
      "![Ej12](files/imgs/P6E12.JPG)\n",
      "\n",
      "Y la probabilidad de que $X_1 = X_2$ es $0$. [Ver explicaci\u00f3n](http://math.stackexchange.com/questions/63794/probability-of-iid-random-variables-to-be-equal)."
     ]
    },
    {
     "cell_type": "heading",
     "level": 2,
     "metadata": {},
     "source": [
      "Ejercicio 15"
     ]
    },
    {
     "cell_type": "markdown",
     "metadata": {},
     "source": [
      "La forma m\u00e1s intuitiva de ver que las chances de ganar son 50% es ver que para las primeras diez tiradas tenemos las mismas chances, entonces lo que determina todo es la onceava moneda del oponente. Si sale cara (hay un 50% de probabilidades), \u00e9l gana. Si sale n\u00famero, \u00e9l no gana. Dentro de esta opci\u00f3n est\u00e1n comprendidas la posibilidad del empate en n\u00famero de caras y de que yo saque m\u00e1s caras. Abajo est\u00e1 el c\u00e1lculo que lo corrobora."
     ]
    },
    {
     "cell_type": "code",
     "collapsed": false,
     "input": [
      "n = 10\n",
      "\n",
      "p_X = Bin(n,.5)\n",
      "p_Y = Bin(n+1,.5)\n",
      "\n",
      "ax = (plt.figure()).add_subplot(111)\n",
      "ax.bar(range(n+2), [p_X(k) for k in range(n+2)], color='b', align='center',alpha=0.5)\n",
      "ax.bar(range(n+2), [p_Y(k) for k in range(n+2)], color='r', align='center', alpha=0.5)\n",
      "\n",
      "\n",
      "P_X_lt_Y = sum([p_X(k)*p_Y(l) for k in range(n+1) for l in range(n+2) if k < l])\n",
      "P_X_eq_Y = sum([p_X(k)*p_Y(l) for k in range(n+1) for l in range(n+2) if k == l])\n",
      "P_X_gt_Y = sum([p_X(k)*p_Y(l) for k in range(n+1) for l in range(n+2) if k > l])\n",
      "\n",
      "print P_X_lt_Y, \"Mas caras \u00e9l. Pierdo\"\n",
      "print P_X_eq_Y, \"Igual cantidad. Gano.\"\n",
      "print P_X_gt_Y, \"M\u00e1s yo. Gano.\"\n",
      "print P_X_gt_Y + P_X_eq_Y, \"Igual o m\u00e1s yo. Gano.\"\n",
      "print \"\"\n",
      "print \"Me da lo mismo. Las chances de ganar o perder son 50 y 50, mas f\u00e1cil tiramos una moneda.\""
     ],
     "language": "python",
     "metadata": {},
     "outputs": [
      {
       "output_type": "stream",
       "stream": "stdout",
       "text": [
        "0.5 Mas caras \u00e9l. Pierdo\n",
        "0.168188095093 Igual cantidad. Gano.\n",
        "0.331811904907 M\u00e1s yo. Gano.\n",
        "0.5 Igual o m\u00e1s yo. Gano.\n",
        "\n",
        "Me da lo mismo. Las chances de ganar o perder son 50 y 50, mas f\u00e1cil tiramos una moneda.\n"
       ]
      },
      {
       "metadata": {},
       "output_type": "display_data",
       "png": "[encoded data removed]",
       "text": [
        "<matplotlib.figure.Figure at 0x3fcced0>"
       ]
      }
     ],
     "prompt_number": 7
    },
    {
     "cell_type": "code",
     "collapsed": false,
     "input": [
      "p = Pois??\n",
      "\n",
      "plt.bar(range(10),[p(i) for i in range(10)])\n",
      "plt.show()"
     ],
     "language": "python",
     "metadata": {},
     "outputs": [
      {
       "metadata": {},
       "output_type": "display_data",
       "png": "[encoded data removed]",
       "text": [
        "<matplotlib.figure.Figure at 0x2f24310>"
       ]
      }
     ],
     "prompt_number": 3
    },
    {
     "cell_type": "code",
     "collapsed": false,
     "input": [
      "p = Pois"
     ],
     "language": "python",
     "metadata": {},
     "outputs": []
    },
    {
     "cell_type": "code",
     "collapsed": false,
     "input": [
      "!subl pye.py"
     ],
     "language": "python",
     "metadata": {},
     "outputs": [],
     "prompt_number": 4
    }
   ],
   "metadata": {}
  }
 ]
}